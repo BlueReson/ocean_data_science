{
 "cells": [
  {
   "cell_type": "code",
   "execution_count": null,
   "metadata": {},
   "outputs": [],
   "source": [
    "import numpy as np\n",
    "import os\n",
    "from matplotlib import pyplot as plt\n",
    "\n",
    "# settings\n",
    "plt.rcParams[\"font.size\"] = 18\n",
    "solid = dict(c='#235b8c', ls='-', lw=1.2, label_kwargs=dict(color='#d99d36'))\n",
    "dotted = dict(c='#737373', ls='-', lw=1.0, alpha=0.3, label_kwargs=dict(color='#737373'))\n",
    "depth = 0.3"
   ]
  },
  {
   "cell_type": "code",
   "execution_count": null,
   "metadata": {},
   "outputs": [],
   "source": [
    "def draw_cube(ax, xy, size, depth=0.4, edges=None, label=None, label_kwargs=None, **kwargs):\n",
    "    if edges is None:\n",
    "        edges = list(range(1, 13))\n",
    "    if label_kwargs is None:\n",
    "        label_kwargs = {}        \n",
    "\n",
    "    x, y = xy\n",
    "\n",
    "    if 1 in edges:\n",
    "        ax.plot([x, x + size], [y + size, y + size], **kwargs)\n",
    "    if 2 in edges:\n",
    "        ax.plot([x + size, x + size], [y, y + size], **kwargs)\n",
    "    if 3 in edges:\n",
    "        ax.plot([x, x + size], [y, y], **kwargs)\n",
    "    if 4 in edges:\n",
    "        ax.plot([x, x], [y, y + size], **kwargs)\n",
    "\n",
    "    if 5 in edges:\n",
    "        ax.plot([x, x + depth], [y + size, y + depth + size], **kwargs)\n",
    "    if 6 in edges:\n",
    "        ax.plot([x + size, x + size + depth], [y + size, y + depth + size], **kwargs)\n",
    "    if 7 in edges:\n",
    "        ax.plot([x + size, x + size + depth], [y, y + depth], **kwargs)\n",
    "    if 8 in edges:\n",
    "        ax.plot([x, x + depth], [y, y + depth], **kwargs)\n",
    "\n",
    "    if 9 in edges:\n",
    "        ax.plot([x + depth, x + depth + size], [y + depth + size, y + depth + size], **kwargs)\n",
    "    if 10 in edges:\n",
    "        ax.plot([x + depth + size, x + depth + size], [y + depth, y + depth + size], **kwargs)\n",
    "    if 11 in edges:\n",
    "        ax.plot([x + depth, x + depth + size], [y + depth, y + depth], **kwargs)\n",
    "    if 12 in edges:\n",
    "        ax.plot([x + depth, x + depth], [y + depth, y + depth + size], **kwargs)\n",
    "\n",
    "    if label:\n",
    "        ax.text(x + 0.5 * size, y + 0.5 * size, label, ha='center', va='center', **label_kwargs)"
   ]
  },
  {
   "cell_type": "code",
   "execution_count": null,
   "metadata": {},
   "outputs": [],
   "source": [
    "fig = plt.figure(figsize=(10, 2), facecolor='w')\n",
    "ax = plt.axes([0, 0, 1, 1], xticks=[], yticks=[], frameon=False)\n",
    "\n",
    "draw_cube(ax=ax, xy=(1, 1), size=1, depth=depth, edges=[1, 2, 3, 4, 5, 6, 9], label='16', **solid)\n",
    "draw_cube(ax=ax, xy=(2, 1), size=1, depth=depth, edges=[1, 2, 3, 6, 9], label='9', **solid)\n",
    "draw_cube(ax=ax, xy=(3, 1), size=1, depth=depth, edges=[1, 2, 3, 6, 7, 9, 10], label='80', **solid)\n",
    "\n",
    "ax.text(4.6, 1.6, '+', size=16, ha='center', va='center')\n",
    "\n",
    "draw_cube(ax=ax, xy=(5, 1), size=1, depth=depth, edges=[1, 2, 3, 4, 5, 6, 7, 9, 10], label='8', **solid)\n",
    "\n",
    "ax.text(1.5, 0.2, r'${\\tt np.array([16, 9, 80]) + 8}$', size=14, ha='left', va='bottom')\n",
    "\n",
    "ax.set_xlim(0, 15)\n",
    "ax.set_ylim(0, 3)\n",
    "\n",
    "fig.savefig(os.path.join(os.pardir, \"COMP_002_000_broadcasting_vector_scalar.png\"))\n",
    "plt.show()"
   ]
  },
  {
   "cell_type": "code",
   "execution_count": null,
   "metadata": {},
   "outputs": [],
   "source": [
    "fig = plt.figure(figsize=(10, 2), facecolor='w')\n",
    "ax = plt.axes([0, 0, 1, 1], xticks=[], yticks=[], frameon=False)\n",
    "\n",
    "draw_cube(ax=ax, xy=(1, 1), size=1, depth=depth, edges=[1, 2, 3, 4, 5, 6, 9], label='16', **solid)\n",
    "draw_cube(ax=ax, xy=(2, 1), size=1, depth=depth, edges=[1, 2, 3, 6, 9], label='9', **solid)\n",
    "draw_cube(ax=ax, xy=(3, 1), size=1, depth=depth, edges=[1, 2, 3, 6, 7, 9, 10], label='80', **solid)\n",
    "\n",
    "ax.text(4.6, 1.6, '+', size=16, ha='center', va='center')\n",
    "\n",
    "draw_cube(ax=ax, xy=(5, 1), size=1, depth=depth, edges=[1, 2, 3, 4, 5, 6, 7, 9, 10], label='8', **solid)\n",
    "draw_cube(ax=ax, xy=(6, 1), size=1, depth=depth, edges=[1, 2, 3, 6, 7, 9, 10, 11], label='8', **dotted)\n",
    "draw_cube(ax=ax, xy=(7, 1), size=1, depth=depth, edges=[1, 2, 3, 6, 7, 9, 10, 11], label='8', **dotted)\n",
    "\n",
    "ax.text(8.7, 1.6, '=', size=16, ha='center', va='center')\n",
    "\n",
    "draw_cube(ax=ax, xy=(9, 1), size=1, depth=depth, edges=[1, 2, 3, 4, 5, 6, 9], label='24', **solid)\n",
    "draw_cube(ax=ax, xy=(10, 1), size=1, depth=depth, edges=[1, 2, 3, 6, 9], label='17', **solid)\n",
    "draw_cube(ax=ax, xy=(11, 1), size=1, depth=depth, edges=[1, 2, 3, 6, 7, 9, 10], label='88', **solid)\n",
    "\n",
    "ax.text(1.5, 0.2, r'${\\tt np.array([16, 9, 80]) + 8}$', size=14, ha='left', va='bottom')\n",
    "\n",
    "ax.set_xlim(0, 15)\n",
    "ax.set_ylim(0, 3)\n",
    "\n",
    "fig.savefig(os.path.join(os.pardir, \"COMP_002_001_broadcasting_vector_scalar.png\"))\n",
    "plt.show()"
   ]
  },
  {
   "cell_type": "code",
   "execution_count": null,
   "metadata": {},
   "outputs": [],
   "source": []
  }
 ],
 "metadata": {
  "kernelspec": {
   "display_name": "Python 3",
   "language": "python",
   "name": "python3"
  },
  "language_info": {
   "codemirror_mode": {
    "name": "ipython",
    "version": 3
   },
   "file_extension": ".py",
   "mimetype": "text/x-python",
   "name": "python",
   "nbconvert_exporter": "python",
   "pygments_lexer": "ipython3",
   "version": "3.6.7"
  }
 },
 "nbformat": 4,
 "nbformat_minor": 2
}
