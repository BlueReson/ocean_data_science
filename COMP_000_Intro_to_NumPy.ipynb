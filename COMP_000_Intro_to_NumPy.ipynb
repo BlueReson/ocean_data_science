{
 "cells": [
  {
   "cell_type": "markdown",
   "metadata": {},
   "source": [
    "<a href=\"https://www.hydroffice.org/epom/\"><img src=\"images/000_000_epom_logo.png\" alt=\"ePOM\" title=\"Open ePOM home page\" align=\"center\" width=\"12%\" alt=\"Python logo\\\"></a>"
   ]
  },
  {
   "cell_type": "markdown",
   "metadata": {},
   "source": [
    "<a href=\"https://piazza.com/e-learning_python_for_ocean_mapping/fall2019/om100/home\"><img src=\"images/help.png\" alt=\"ePOM\" title=\"Ask questions on Piazza.com\" align=\"right\" width=\"10%\" alt=\"Piazza.com\\\"></a>\n",
    "# Intro to NumPy"
   ]
  },
  {
   "cell_type": "markdown",
   "metadata": {},
   "source": [
    "<img align=\"left\" width=\"6%\" style=\"padding-right:10px;\" src=\"images/key.png\">\n",
    "\n",
    "The [NumPy](https://www.numpy.org/) package has a key role for scientific computing with Python. "
   ]
  },
  {
   "cell_type": "markdown",
   "metadata": {},
   "source": [
    "NumPy is centered around a powerful N-dimensional array object, but also contains other useful capabilities like linear algebra, Fourier transform, random number functions, etc."
   ]
  },
  {
   "cell_type": "markdown",
   "metadata": {},
   "source": [
    "Before starting to use `numpy`, you have to execute the following cell that, together with code introduced in the past notebooks, imports `numpy` with the commonly-adopted short name of `np`:"
   ]
  },
  {
   "cell_type": "code",
   "execution_count": null,
   "metadata": {},
   "outputs": [],
   "source": [
    "%load_ext autoreload\n",
    "%autoreload 2\n",
    "%matplotlib inline\n",
    "\n",
    "import sys\n",
    "import os\n",
    "import matplotlib.pyplot as plt\n",
    "import numpy as np\n",
    "\n",
    "sys.path.append(os.getcwd())"
   ]
  },
  {
   "cell_type": "markdown",
   "metadata": {},
   "source": [
    "## Creating Arrays"
   ]
  },
  {
   "cell_type": "markdown",
   "metadata": {},
   "source": [
    "The first `numpy` function that we introduce is [`zeros()`](https://www.numpy.org/devdocs/reference/generated/numpy.zeros.html?#numpy.zeros). This function creates an 1D array containing the passed number of zeros:"
   ]
  },
  {
   "cell_type": "code",
   "execution_count": null,
   "metadata": {},
   "outputs": [],
   "source": [
    "arr = np.zeros(8)\n",
    "print(arr)"
   ]
  },
  {
   "cell_type": "markdown",
   "metadata": {},
   "source": [
    "It is also possible to create multi-dimensional array by passing a [`tuple`](https://docs.python.org/3.6/library/stdtypes.html?#tuples).\n",
    "\n",
    "Thus, the following code creates a 2D array with 3 rows and 8 columns passing `(3, 8)`:"
   ]
  },
  {
   "cell_type": "code",
   "execution_count": null,
   "metadata": {},
   "outputs": [],
   "source": [
    "arr = np.zeros((3, 8))\n",
    "print(arr)"
   ]
  },
  {
   "cell_type": "markdown",
   "metadata": {},
   "source": [
    "Similarly, for 3D (and higher) arrays:"
   ]
  },
  {
   "cell_type": "code",
   "execution_count": null,
   "metadata": {},
   "outputs": [],
   "source": [
    "arr = np.zeros((3, 8, 2))\n",
    "print(arr)"
   ]
  },
  {
   "cell_type": "markdown",
   "metadata": {},
   "source": [
    "<img align=\"left\" width=\"6%\" style=\"padding-right:10px;\" src=\"images/key.png\">\n",
    "\n",
    "Each dimension of a `numpy` array is called an **axis**."
   ]
  },
  {
   "cell_type": "markdown",
   "metadata": {},
   "source": [
    "<img align=\"left\" width=\"6%\" style=\"padding-right:10px;\" src=\"images/key.png\">\n",
    "\n",
    "The number of axes of a `numpy` array is called the **rank**."
   ]
  },
  {
   "cell_type": "code",
   "execution_count": null,
   "metadata": {},
   "outputs": [],
   "source": [
    "arr = np.zeros((3, 8, 2))\n",
    "print(\"Array rank: %d\" % arr.ndim)"
   ]
  },
  {
   "cell_type": "markdown",
   "metadata": {},
   "source": [
    "<img align=\"left\" width=\"6%\" style=\"padding-right:10px;\" src=\"images/key.png\">\n",
    "\n",
    "The length of all the axes is the **shape** of an array."
   ]
  },
  {
   "cell_type": "code",
   "execution_count": null,
   "metadata": {},
   "outputs": [],
   "source": [
    "arr = np.zeros((3, 8, 2))\n",
    "print(\"Array shape: %s\" % (arr.shape, ))"
   ]
  },
  {
   "cell_type": "markdown",
   "metadata": {},
   "source": [
    "<img align=\"left\" width=\"6%\" style=\"padding-right:10px;\" src=\"images/key.png\">\n",
    "\n",
    "The **size** of an array is represented by the total number of elements."
   ]
  },
  {
   "cell_type": "code",
   "execution_count": null,
   "metadata": {},
   "outputs": [],
   "source": [
    "arr = np.zeros((3, 8, 2))\n",
    "print(\"Array size: %s\" % (arr.size, ))  # = 3 x 8 x 2"
   ]
  },
  {
   "cell_type": "markdown",
   "metadata": {},
   "source": [
    "The `zeros()` is just one of several functions to create an array in `numpy`. \n",
    "\n",
    "For instance, to create an array of a given shape but initialized with a specific value (e.g., `8.0`), you can use the [`full()`](https://www.numpy.org/devdocs/reference/generated/numpy.full.html?#numpy.full) function:"
   ]
  },
  {
   "cell_type": "code",
   "execution_count": null,
   "metadata": {},
   "outputs": [],
   "source": [
    "arr = np.full((3, 5), 8.0)\n",
    "print(arr)"
   ]
  },
  {
   "cell_type": "markdown",
   "metadata": {},
   "source": [
    "It is also possible to convert a `list()` into a `numpy` array using the [`array()`](https://www.numpy.org/devdocs/reference/generated/numpy.full.html?#numpy.array) function:"
   ]
  },
  {
   "cell_type": "code",
   "execution_count": null,
   "metadata": {},
   "outputs": [],
   "source": [
    "sal_list = [34.4, 34.1, 33.6, 31.7, 31.3, 31.2, 31.0]\n",
    "sal_arr = np.array(sal_list)\n",
    "print(sal_arr)"
   ]
  },
  {
   "cell_type": "markdown",
   "metadata": {},
   "source": [
    "Matplotlib knows how to read `numpy` arrays! The next code cell contains a modified version of the example provided in the [Intro to Matplotlib](VIS_000_Intro_to_Matplotlib.ipynb#Customizing-your-plots) notebook:"
   ]
  },
  {
   "cell_type": "code",
   "execution_count": null,
   "metadata": {},
   "outputs": [],
   "source": [
    "sal_list = [34.4, 34.1, 33.6, 31.7, 31.3, 31.2, 31.0]\n",
    "temp_list = [11.2, 11.0, 13.7, 16.0, 16.1, 16.2, 16.1]\n",
    "\n",
    "# conversion to numpy array\n",
    "sal_arr = np.array(sal_list)\n",
    "temp_arr = np.array(temp_list)\n",
    "\n",
    "# plot creation\n",
    "plt.plot(sal_arr, temp_arr, \n",
    "         color='green', linewidth=1.5, linestyle='dotted', \n",
    "         marker='o', markersize=12, markerfacecolor='yellow', markeredgecolor='red') # new code\n",
    "plt.axis([32.0, 34.0, 11.0, 16.0])  \n",
    "plt.title(\"T-S Diagram\")  \n",
    "plt.xlabel(\"Salinity[PSU]\") \n",
    "plt.ylabel(\"Temperature[Celsius]\")\n",
    "plt.grid()\n",
    "plt.show()"
   ]
  },
  {
   "cell_type": "markdown",
   "metadata": {},
   "source": [
    "***"
   ]
  },
  {
   "cell_type": "markdown",
   "metadata": {},
   "source": [
    "## Mathematical and Statistical Methods"
   ]
  },
  {
   "cell_type": "markdown",
   "metadata": {},
   "source": [
    "One of the advantages to use `numpy` arrays in place of `list` containers is represented by the many mathematical and statistical methods available."
   ]
  },
  {
   "cell_type": "code",
   "execution_count": null,
   "metadata": {},
   "outputs": [],
   "source": [
    "sal_list = [34.4, 34.1, 33.6, 31.7, 31.3, 31.2, 31.0]\n",
    "sal_arr = np.array(sal_list)\n",
    "print(\"The average value is %f\" % sal_arr.mean())\n",
    "print(\"The standard deviation is %f\" % sal_arr.std())\n",
    "print(\"The min value is %f\" % sal_arr.min())\n",
    "print(\"The max value is %f\" % sal_arr.max())"
   ]
  },
  {
   "cell_type": "markdown",
   "metadata": {},
   "source": [
    " "
   ]
  },
  {
   "cell_type": "markdown",
   "metadata": {
    "solution2": "hidden",
    "solution2_first": true
   },
   "source": [
    "<img align=\"left\" width=\"6%\" style=\"padding-right:10px;\" src=\"images/test.png\">\n",
    "\n",
    "Calculate the average value and the standard deviation for the `temp_list`."
   ]
  },
  {
   "cell_type": "code",
   "execution_count": null,
   "metadata": {
    "solution2": "hidden"
   },
   "outputs": [],
   "source": [
    "temp_list = [11.2, 11.0, 13.7, 16.0, 16.1, 16.2, 16.1]\n",
    "\n",
    "temp_arr = np.array(temp_list)\n",
    "print(\"The average value is %f\" % temp_arr.mean())\n",
    "print(\"The standard deviation is %f\" % temp_arr.std())"
   ]
  },
  {
   "cell_type": "code",
   "execution_count": null,
   "metadata": {},
   "outputs": [],
   "source": [
    "temp_list = [11.2, 11.0, 13.7, 16.0, 16.1, 16.2, 16.1]"
   ]
  },
  {
   "cell_type": "markdown",
   "metadata": {},
   "source": [
    "***"
   ]
  },
  {
   "cell_type": "markdown",
   "metadata": {},
   "source": [
    "<img align=\"left\" width=\"6%\" style=\"padding-right:10px; padding-top:10px;\" src=\"images/refs.png\">\n",
    "\n",
    "## Useful References"
   ]
  },
  {
   "cell_type": "markdown",
   "metadata": {},
   "source": [
    "* [The official Python 3.6 documentation](https://docs.python.org/3.6/index.html)\n",
    "  * [Tuple](https://docs.python.org/3.6/library/stdtypes.html?#tuples)\n",
    "* [Programming Basics with Python](https://github.com/hydroffice/python_basics)\n",
    "* The Numpy Package:\n",
    "  * [Website](https://www.numpy.org/)\n",
    "  * [`zeros()`](https://www.numpy.org/devdocs/reference/generated/numpy.zeros.html?#numpy.zeros)\n",
    "  * [`full()`](https://www.numpy.org/devdocs/reference/generated/numpy.full.html?#numpy.full)\n",
    "  * [`array()`](https://www.numpy.org/devdocs/reference/generated/numpy.full.html?#numpy.array)"
   ]
  },
  {
   "cell_type": "markdown",
   "metadata": {},
   "source": [
    "<img align=\"left\" width=\"5%\" style=\"padding-right:10px;\" src=\"images/email.png\">\n",
    "\n",
    "*For issues or suggestions related to this notebook, write to: epom@ccom.unh.edu*"
   ]
  },
  {
   "cell_type": "markdown",
   "metadata": {},
   "source": [
    "<!--NAVIGATION-->\n",
    "| [Contents](index.ipynb) | [Adopting NumPy in Class Methods >](COMP_001_Adopting_NumPy_in_Class_Methods.ipynb)"
   ]
  }
 ],
 "metadata": {
  "kernelspec": {
   "display_name": "Python 3",
   "language": "python",
   "name": "python3"
  },
  "language_info": {
   "codemirror_mode": {
    "name": "ipython",
    "version": 3
   },
   "file_extension": ".py",
   "mimetype": "text/x-python",
   "name": "python",
   "nbconvert_exporter": "python",
   "pygments_lexer": "ipython3",
   "version": "3.6.7"
  }
 },
 "nbformat": 4,
 "nbformat_minor": 2
}
