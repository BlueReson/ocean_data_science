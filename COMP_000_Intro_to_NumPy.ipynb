{
 "cells": [
  {
   "cell_type": "markdown",
   "metadata": {},
   "source": [
    "<a href=\"https://www.hydroffice.org/epom/\"><img src=\"images/000_000_epom_logo.png\" alt=\"ePOM\" title=\"Open ePOM home page\" align=\"center\" width=\"12%\" alt=\"Python logo\\\"></a>"
   ]
  },
  {
   "cell_type": "markdown",
   "metadata": {},
   "source": [
    "<a href=\"https://piazza.com/e-learning_python_for_ocean_mapping/fall2019/om100/home\"><img src=\"images/help.png\" alt=\"ePOM\" title=\"Ask questions on Piazza.com\" align=\"right\" width=\"10%\" alt=\"Piazza.com\\\"></a>\n",
    "# Introduction to NumPy"
   ]
  },
  {
   "cell_type": "markdown",
   "metadata": {},
   "source": [
    "The efficient storage and manipulation of numerical arrays is often critical when processing ocean data. This notebook will present a specialized Python package for handling such numerical arrays: [NumPy](https://www.numpy.org/)."
   ]
  },
  {
   "cell_type": "markdown",
   "metadata": {},
   "source": [
    "Since NumPy arrays are present in (nearly) all the Python scientific packages, time spent learning how to use NumPy effectively helps with many aspects of ocean data science."
   ]
  },
  {
   "cell_type": "markdown",
   "metadata": {},
   "source": [
    "<img align=\"left\" width=\"6%\" style=\"padding-right:10px;\" src=\"images/key.png\">\n",
    "\n",
    "The [NumPy](https://www.numpy.org/) package has a key role for scientific computing with Python. "
   ]
  },
  {
   "cell_type": "markdown",
   "metadata": {},
   "source": [
    "NumPy (short for Numerical Python) is centered around a powerful N-dimensional array object, but also provides other useful capabilities like linear algebra, Fourier transform, functions to create random numbers, etc."
   ]
  },
  {
   "cell_type": "markdown",
   "metadata": {},
   "source": [
    "<img align=\"left\" width=\"6%\" style=\"padding-right:10px;\" src=\"images/info.png\">\n",
    "\n",
    "Detailed documentation, tutorials, and other resources can be found at [https://www.numpy.org](https://www.numpy.org)."
   ]
  },
  {
   "cell_type": "markdown",
   "metadata": {},
   "source": [
    "Before starting to use `numpy`, you have to execute the following cell. Together with code introduced in the past notebooks, this imports `numpy` and assign it the commonly-adopted short name of `np`:"
   ]
  },
  {
   "cell_type": "code",
   "execution_count": null,
   "metadata": {},
   "outputs": [],
   "source": [
    "%load_ext autoreload\n",
    "%autoreload 2\n",
    "%matplotlib inline\n",
    "\n",
    "import sys\n",
    "import os\n",
    "import matplotlib.pyplot as plt\n",
    "import numpy as np\n",
    "\n",
    "sys.path.append(os.getcwd())"
   ]
  },
  {
   "cell_type": "markdown",
   "metadata": {},
   "source": [
    "Similarly to what was done in the [Introduction to Matplotlib notebook](VIS_000_Intro_to_Matplotlib.ipynb#Introduction-to-Matplotlib), the cell below retrieves and prints the NumPy version:"
   ]
  },
  {
   "cell_type": "code",
   "execution_count": null,
   "metadata": {},
   "outputs": [],
   "source": [
    "print(\"NumPy version: %s\" % (np.__version__, ))"
   ]
  },
  {
   "cell_type": "markdown",
   "metadata": {},
   "source": [
    "***"
   ]
  },
  {
   "cell_type": "markdown",
   "metadata": {},
   "source": [
    "## Creating an Array Filled with Zeros "
   ]
  },
  {
   "cell_type": "markdown",
   "metadata": {},
   "source": [
    "The first `numpy` function that we introduce is [`zeros()`](https://www.numpy.org/devdocs/reference/generated/numpy.zeros.html?#numpy.zeros). When a single integer is passed, this function creates an 1D array with a number of zero equal to the passed value:"
   ]
  },
  {
   "cell_type": "code",
   "execution_count": null,
   "metadata": {},
   "outputs": [],
   "source": [
    "arr = np.zeros(8)\n",
    "print(arr)"
   ]
  },
  {
   "cell_type": "markdown",
   "metadata": {},
   "source": [
    "It is also possible to create multi-dimensional array by passing a [`tuple`](https://docs.python.org/3.6/library/stdtypes.html?#tuples). Each value in the `tuple` define the array size for each dimension.\n",
    "\n",
    "Thus, the following code creates a 2D array with 8 rows and 2 columns passing `(8, 2)`:"
   ]
  },
  {
   "cell_type": "code",
   "execution_count": null,
   "metadata": {},
   "outputs": [],
   "source": [
    "arr = np.zeros((8, 2))\n",
    "print(arr)"
   ]
  },
  {
   "cell_type": "markdown",
   "metadata": {},
   "source": [
    "Similarly, for 3D (and higher) arrays:"
   ]
  },
  {
   "cell_type": "code",
   "execution_count": null,
   "metadata": {},
   "outputs": [],
   "source": [
    "arr = np.zeros((3, 8, 2))\n",
    "print(arr)"
   ]
  },
  {
   "cell_type": "markdown",
   "metadata": {},
   "source": [
    "<img align=\"left\" width=\"6%\" style=\"padding-right:10px;\" src=\"images/info.png\">\n",
    "\n",
    "You can define how many decimal numbers are visualized with `print()` by using [set_printoptions()](https://docs.scipy.org/doc/numpy/reference/generated/numpy.set_printoptions.html)."
   ]
  },
  {
   "cell_type": "code",
   "execution_count": null,
   "metadata": {},
   "outputs": [],
   "source": [
    "np.set_printoptions(precision=2, floatmode='fixed')\n",
    "\n",
    "arr = np.zeros(8)\n",
    "print(arr)"
   ]
  },
  {
   "cell_type": "markdown",
   "metadata": {},
   "source": [
    "## Common NumPy Terminology"
   ]
  },
  {
   "cell_type": "markdown",
   "metadata": {},
   "source": [
    "<img align=\"left\" width=\"6%\" style=\"padding-right:10px;\" src=\"images/key.png\">\n",
    "\n",
    "Each dimension of a `numpy` array is called an **axis**."
   ]
  },
  {
   "cell_type": "markdown",
   "metadata": {},
   "source": [
    "The number of axes of a `numpy` array can be retrieved using [`ndim`](https://docs.scipy.org/doc/numpy/reference/generated/numpy.ndarray.ndim.html):"
   ]
  },
  {
   "cell_type": "code",
   "execution_count": null,
   "metadata": {},
   "outputs": [],
   "source": [
    "arr = np.zeros((3, 8, 2))\n",
    "print(\"Array dimensions: %d\" % arr.ndim)"
   ]
  },
  {
   "cell_type": "markdown",
   "metadata": {},
   "source": [
    "The number of elements along each of the axes is the **length** of the axes."
   ]
  },
  {
   "cell_type": "markdown",
   "metadata": {},
   "source": [
    "<img align=\"left\" width=\"6%\" style=\"padding-right:10px;\" src=\"images/key.png\">\n",
    "\n",
    "The length of all the axes is the **shape** of an array. You can retrieve the array shape using [`shape`](https://docs.scipy.org/doc/numpy/reference/generated/numpy.ndarray.shape.html)."
   ]
  },
  {
   "cell_type": "code",
   "execution_count": null,
   "metadata": {},
   "outputs": [],
   "source": [
    "arr = np.zeros((3, 8, 2))\n",
    "print(\"Array shape: %s\" % (arr.shape, ))"
   ]
  },
  {
   "cell_type": "markdown",
   "metadata": {},
   "source": [
    "<img align=\"left\" width=\"6%\" style=\"padding-right:10px;\" src=\"images/key.png\">\n",
    "\n",
    "The **size** of an array is represented by the total number of elements. You can retrieve the array size using [`size`](https://docs.scipy.org/doc/numpy/reference/generated/numpy.ndarray.size.html)."
   ]
  },
  {
   "cell_type": "code",
   "execution_count": null,
   "metadata": {},
   "outputs": [],
   "source": [
    "arr = np.zeros((3, 8, 2))\n",
    "print(\"Array size: %s\" % (arr.size, ))  # = 3 x 8 x 2"
   ]
  },
  {
   "cell_type": "markdown",
   "metadata": {},
   "source": [
    "<img align=\"left\" width=\"6%\" style=\"padding-right:10px;\" src=\"images/key.png\">\n",
    "\n",
    "A NumPy array is homogeneous. This means that all the elements of an array have the same **data type**. "
   ]
  },
  {
   "cell_type": "markdown",
   "metadata": {},
   "source": [
    "You can retrieve an array's data type using [`dtype`](https://docs.scipy.org/doc/numpy/reference/generated/numpy.ndarray.dtype.html)."
   ]
  },
  {
   "cell_type": "code",
   "execution_count": null,
   "metadata": {},
   "outputs": [],
   "source": [
    "arr = np.zeros((3, 8, 2))\n",
    "print(\"Array data type: %s\" % (arr.dtype, ))"
   ]
  },
  {
   "cell_type": "markdown",
   "metadata": {},
   "source": [
    "The above cell prints `float64` for the array data type. The `zeros()` function uses such a data type by default."
   ]
  },
  {
   "cell_type": "markdown",
   "metadata": {},
   "source": [
    "The table below provides some of the many data types available in NumPy:"
   ]
  },
  {
   "cell_type": "markdown",
   "metadata": {},
   "source": [
    "| Data Type\t  | Description                                          |\n",
    "|-------------|------------------------------------------------------|\n",
    "| `bool`      | Boolean (True or False)                              |\n",
    "| `int8`      | Integer (-128 to 127)                                | \n",
    "| `int16`     | Integer (-32768 to 32767)                            |\n",
    "| `int32`     | Integer (-2147483648 to 2147483647)                  |\n",
    "| `int64`     | Integer (-9223372036854775808 to 9223372036854775807)| \n",
    "| `uint8`     | Unsigned integer (0 to 255)                          | \n",
    "| `uint16`    | Unsigned integer (0 to 65535)                        | \n",
    "| `uint32`    | Unsigned integer (0 to 4294967295)                   | \n",
    "| `uint64`    | Unsigned integer (0 to 18446744073709551615)         | \n",
    "| `intp`      | Integer used for indexing                            | \n",
    "| `float16`   | Half precision float                                 | \n",
    "| `float32`   | Single precision float                               | \n",
    "| `float64`   | Double precision float                               | \n",
    "| `complex64` | Complex number, represented by two `float32`         | \n",
    "| `complex128`| Complex number, represented by two `float64`         | "
   ]
  },
  {
   "cell_type": "markdown",
   "metadata": {},
   "source": [
    "You can explicitly define the data type by passing the `dtype` parameter. "
   ]
  },
  {
   "cell_type": "code",
   "execution_count": null,
   "metadata": {},
   "outputs": [],
   "source": [
    "arr = np.zeros((3, 8, 2), dtype=np.int32)\n",
    "print(\"Array data type: %s\" % (arr.dtype, ))"
   ]
  },
  {
   "cell_type": "markdown",
   "metadata": {},
   "source": [
    "<img align=\"left\" width=\"6%\" style=\"padding-right:10px;\" src=\"images/info.png\">\n",
    "\n",
    "To learn more about data types in NumPy, read the [Data type objects (dtype) page](https://docs.scipy.org/doc/numpy/reference/arrays.dtypes.html)."
   ]
  },
  {
   "cell_type": "markdown",
   "metadata": {},
   "source": [
    "## Other Mechanisms to Create NumPy Arrays"
   ]
  },
  {
   "cell_type": "markdown",
   "metadata": {},
   "source": [
    "The `zeros()` function is just one of the several ways to create an array in `numpy`. \n",
    "\n",
    "For instance, to create an array of a given shape, but initialized with a specific value (e.g., `8.0`), you can use the [`full()`](https://www.numpy.org/devdocs/reference/generated/numpy.full.html) function:"
   ]
  },
  {
   "cell_type": "code",
   "execution_count": null,
   "metadata": {},
   "outputs": [],
   "source": [
    "arr = np.full((3, 5), 8.0)\n",
    "print(arr)"
   ]
  },
  {
   "cell_type": "markdown",
   "metadata": {},
   "source": [
    "If you want to create an array filled with a sequence of values, you may use the [`arange()`](https://docs.scipy.org/doc/numpy/reference/generated/numpy.arange.html) function or the [`linspace()`](https://docs.scipy.org/doc/numpy/reference/generated/numpy.linspace.html) function by selecting the one that fulfills your specific needs:"
   ]
  },
  {
   "cell_type": "code",
   "execution_count": null,
   "metadata": {},
   "outputs": [],
   "source": [
    "arr = np.arange(start=0, stop=40, step=8)  # the `stop` value is not included\n",
    "print(arr)"
   ]
  },
  {
   "cell_type": "code",
   "execution_count": null,
   "metadata": {},
   "outputs": [],
   "source": [
    "arr = np.linspace(start=0, stop=40, num=5)  # the `stop` value is included\n",
    "print(arr)"
   ]
  },
  {
   "cell_type": "markdown",
   "metadata": {},
   "source": [
    "It is also possible to convert a `list()` or a list of lists into a `numpy` array using the [`array()`](https://www.numpy.org/devdocs/reference/generated/numpy.full.html?#numpy.array) function:"
   ]
  },
  {
   "cell_type": "code",
   "execution_count": null,
   "metadata": {},
   "outputs": [],
   "source": [
    "sal_list = [34.4, 34.1, 33.6, 31.7, 31.3, 31.2, 31.0]\n",
    "sal_arr = np.array(sal_list)\n",
    "print(\"array shape: %s\" % (sal_arr.shape,))  # nr. of dimensions: 1\n",
    "print(sal_arr)"
   ]
  },
  {
   "cell_type": "code",
   "execution_count": null,
   "metadata": {},
   "outputs": [],
   "source": [
    "sal_list = [34.4, 34.1, 33.6, 31.7, 31.3, 31.2, 31.0]\n",
    "temp_list = [11.2, 11.0, 13.7, 16.0, 16.1, 16.2, 16.1]\n",
    "data_arr = np.array([sal_list, temp_list])\n",
    "print(\"array shape: %s\" % (data_arr.shape,))  # nr. of dimensions: 2\n",
    "print(data_arr)"
   ]
  },
  {
   "cell_type": "markdown",
   "metadata": {},
   "source": [
    "---"
   ]
  },
  {
   "cell_type": "markdown",
   "metadata": {},
   "source": [
    "## Matplolitb Support"
   ]
  },
  {
   "cell_type": "markdown",
   "metadata": {},
   "source": [
    "<img align=\"left\" width=\"6%\" style=\"padding-right:10px;\" src=\"images/key.png\">\n",
    "\n",
    "Matplotlib knows how to read `numpy` arrays. "
   ]
  },
  {
   "cell_type": "markdown",
   "metadata": {},
   "source": [
    "The next code cell contains a modified version of the example provided in the [Intro to Matplotlib](VIS_000_Intro_to_Matplotlib.ipynb#Customizing-your-plots) notebook:"
   ]
  },
  {
   "cell_type": "code",
   "execution_count": null,
   "metadata": {},
   "outputs": [],
   "source": [
    "sal_list = [34.4, 34.1, 33.6, 31.7, 31.3, 31.2, 31.0]\n",
    "temp_list = [11.2, 11.0, 13.7, 16.0, 16.1, 16.2, 16.1]\n",
    "\n",
    "# conversion from lists to numpy arrays\n",
    "sal_arr = np.array(sal_list)\n",
    "temp_arr = np.array(temp_list)\n",
    "\n",
    "# plot creation\n",
    "plt.plot(sal_arr, temp_arr, \n",
    "         color='green', linewidth=1.5, linestyle='dotted', \n",
    "         marker='o', markersize=12, markerfacecolor='yellow', markeredgecolor='red') # new code\n",
    "plt.axis([32.0, 34.0, 11.0, 16.0])  \n",
    "plt.title(\"T-S Diagram\")  \n",
    "plt.xlabel(\"Salinity[PSU]\") \n",
    "plt.ylabel(\"Temperature[Celsius]\")\n",
    "plt.grid()\n",
    "plt.show()"
   ]
  },
  {
   "cell_type": "markdown",
   "metadata": {},
   "source": [
    "***"
   ]
  },
  {
   "cell_type": "markdown",
   "metadata": {},
   "source": [
    "## Mathematical and Statistical Methods"
   ]
  },
  {
   "cell_type": "markdown",
   "metadata": {},
   "source": [
    "Numpy arrays have many efficient mathematical and statistical methods. This is one of the motivations to use them in place of `list` containers.\n",
    "\n",
    "The cell below shows how to use some of these methods. If you want to learn more about them, visit [this Numpy page](https://www.numpy.org/devdocs/reference/arrays.ndarray.html#calculation)."
   ]
  },
  {
   "cell_type": "code",
   "execution_count": null,
   "metadata": {},
   "outputs": [],
   "source": [
    "sal_list = [34.4, 34.1, 33.6, 31.7, 31.3, 31.2, 31.0]\n",
    "sal_arr = np.array(sal_list)\n",
    "print(\"The average value is %f\" % sal_arr.mean())\n",
    "print(\"The standard deviation is %f\" % sal_arr.std())\n",
    "print(\"The min value is %f\" % sal_arr.min())\n",
    "print(\"The max value is %f\" % sal_arr.max())"
   ]
  },
  {
   "cell_type": "markdown",
   "metadata": {},
   "source": [
    " "
   ]
  },
  {
   "cell_type": "markdown",
   "metadata": {
    "solution2": "hidden",
    "solution2_first": true
   },
   "source": [
    "<img align=\"left\" width=\"6%\" style=\"padding-right:10px;\" src=\"images/test.png\">\n",
    "\n",
    "Calculate the average value, the minimum, and the maximum for the `temp_list`, then superimpose those values in a plot showing the temperature values.\n",
    "\n",
    "*Hint: read about [`axhline()`](https://matplotlib.org/api/_as_gen/matplotlib.axes.Axes.axhline.html) and [`legend()`](https://matplotlib.org/api/_as_gen/matplotlib.pyplot.legend.html) in the Matplotlib documentation.*"
   ]
  },
  {
   "cell_type": "code",
   "execution_count": null,
   "metadata": {
    "solution2": "hidden"
   },
   "outputs": [],
   "source": [
    "temp_list = [11.2, 11.0, 13.7, 16.0, 16.1, 16.2, 16.1]\n",
    "\n",
    "temp_arr = np.array(temp_list)\n",
    "mean_temp = temp_arr.mean()\n",
    "min_temp = temp_arr.min()\n",
    "max_temp = temp_arr.max()\n",
    "print(\"The average value is %f\" % (mean_temp, ))\n",
    "print(\"The minimum is %f\" % (min_temp, ))\n",
    "print(\"The maximum is %f\" % (max_temp, ))\n",
    "\n",
    "# plot creation\n",
    "plt.plot(temp_arr, color='orange', marker='o', label='data')\n",
    "plt.axhline(y=mean_temp, color='green', linestyle='dashed', label='avg')\n",
    "plt.axhline(y=min_temp, color='blue', linestyle='dotted', label='min')\n",
    "plt.axhline(y=max_temp, color='red', linestyle='dotted', label='max')\n",
    "plt.title(\"Temperature\")  \n",
    "plt.xlabel(\"Samples\") \n",
    "plt.ylabel(\"Temperature[Celsius]\")\n",
    "plt.legend()\n",
    "plt.grid()\n",
    "plt.show()"
   ]
  },
  {
   "cell_type": "code",
   "execution_count": null,
   "metadata": {},
   "outputs": [],
   "source": [
    "temp_list = [11.2, 11.0, 13.7, 16.0, 16.1, 16.2, 16.1]"
   ]
  },
  {
   "cell_type": "markdown",
   "metadata": {},
   "source": [
    "***"
   ]
  },
  {
   "cell_type": "markdown",
   "metadata": {},
   "source": [
    "## Array Indexing and Slicing"
   ]
  },
  {
   "cell_type": "markdown",
   "metadata": {},
   "source": [
    "### One-dimensional Arrays"
   ]
  },
  {
   "cell_type": "markdown",
   "metadata": {},
   "source": [
    "The cell below creates an one-dimensional array:"
   ]
  },
  {
   "cell_type": "code",
   "execution_count": null,
   "metadata": {},
   "outputs": [],
   "source": [
    "sal_arr = np.array([34.4, 34.1, 33.6, 31.7, 31.3, 31.2, 31.0])\n",
    "print(\"1D array: %s\" % (sal_arr, ))"
   ]
  },
  {
   "cell_type": "markdown",
   "metadata": {},
   "source": [
    "<img align=\"left\" width=\"6%\" style=\"padding-right:10px;\" src=\"images/key.png\">\n",
    "\n",
    "Once created, you can directly access one of their values by putting its index in square brackets (i.e., `[]`)."
   ]
  },
  {
   "cell_type": "code",
   "execution_count": null,
   "metadata": {},
   "outputs": [],
   "source": [
    "index = 3\n",
    "value = sal_arr[index]\n",
    "print(\"value at index %d: %f\" % (index, value))"
   ]
  },
  {
   "cell_type": "markdown",
   "metadata": {},
   "source": [
    "You can also use the indexing to change a specific value: "
   ]
  },
  {
   "cell_type": "code",
   "execution_count": null,
   "metadata": {},
   "outputs": [],
   "source": [
    "index = 3\n",
    "sal_arr[index] = 32.1\n",
    "print(\"modified 1D array: %s\" % (sal_arr, ))"
   ]
  },
  {
   "cell_type": "markdown",
   "metadata": {},
   "source": [
    "Similarly to [list indexing](../python_basics/002_Lists_of_Variables.ipynb#Creation-of-a-List:-Approach-#1), you can use a negative index to access values from the end of the array:"
   ]
  },
  {
   "cell_type": "code",
   "execution_count": null,
   "metadata": {},
   "outputs": [],
   "source": [
    "index = -2\n",
    "value = sal_arr[index]\n",
    "print(\"value at index %d: %f\" % (index, value))"
   ]
  },
  {
   "cell_type": "markdown",
   "metadata": {},
   "source": [
    "<img align=\"left\" width=\"6%\" style=\"padding-right:10px;\" src=\"images/key.png\">\n",
    "\n",
    "You can access sub-arrays using square brackets and the colon character (i.e.,`:`). This mechanism is called **slice notation**."
   ]
  },
  {
   "cell_type": "markdown",
   "metadata": {},
   "source": [
    "<img align=\"left\" width=\"6%\" style=\"padding-right:10px;\" src=\"images/key.png\">\n",
    "\n",
    "The slice notation syntax is: `x[start:stop:step]`. When unspecified, the default values are `start=0`, `stop=size of axis`, `step=1`."
   ]
  },
  {
   "cell_type": "markdown",
   "metadata": {},
   "source": [
    "Thus, if you want to select the first 4 elements, you may write:"
   ]
  },
  {
   "cell_type": "code",
   "execution_count": null,
   "metadata": {},
   "outputs": [],
   "source": [
    "start = 0\n",
    "stop = 4\n",
    "step = 1\n",
    "values = sal_arr[start:stop:step]\n",
    "print(\"sub-array[%d:%d:%d] = %s\" % (start, stop, step, values))"
   ]
  },
  {
   "cell_type": "markdown",
   "metadata": {},
   "source": [
    "However, given that `start=0` and `step=1` are also the default values, you can also write to obtain the same sub-array:"
   ]
  },
  {
   "cell_type": "code",
   "execution_count": null,
   "metadata": {},
   "outputs": [],
   "source": [
    "stop = 4\n",
    "values = sal_arr[:stop]\n",
    "print(\"sub-array[:%d] = %s\" % (stop, values))"
   ]
  },
  {
   "cell_type": "markdown",
   "metadata": {},
   "source": [
    "You can combine the three elements of the slice notation to obtain a number of different results. \n",
    "\n",
    "For instance, the sub-array in the cell below contains only every third element, starting at index 1:"
   ]
  },
  {
   "cell_type": "code",
   "execution_count": null,
   "metadata": {},
   "outputs": [],
   "source": [
    "start = 1\n",
    "step = 3\n",
    "values = sal_arr[start::step]\n",
    "print(\"sub-array[%d:%d] = %s\" % (start, step, values))"
   ]
  },
  {
   "cell_type": "markdown",
   "metadata": {},
   "source": [
    "### Multi-dimensional Arrays"
   ]
  },
  {
   "cell_type": "markdown",
   "metadata": {},
   "source": [
    "The cell below creates an two-dimensional array:"
   ]
  },
  {
   "cell_type": "code",
   "execution_count": null,
   "metadata": {},
   "outputs": [],
   "source": [
    "sal_list = [34.4, 34.1, 33.6, 31.7, 31.3, 31.2, 31.0]\n",
    "temp_list = [11.2, 11.0, 13.7, 16.0, 16.1, 16.2, 16.1]\n",
    "data_arr = np.array([sal_list, temp_list])\n",
    "\n",
    "print(\"array shape: %s\" % (data_arr.shape,))  # nr. of dimensions: 2\n",
    "print(data_arr)"
   ]
  },
  {
   "cell_type": "markdown",
   "metadata": {},
   "source": [
    "Adopting with `data_arr` the indexing approach discussed for one-dimensional arrays, you will not get back a single value, but a whole row (i.e., all the salinity values):"
   ]
  },
  {
   "cell_type": "code",
   "execution_count": null,
   "metadata": {},
   "outputs": [],
   "source": [
    "index = 0\n",
    "values = data_arr[index]\n",
    "print(\"sub-array[%d] = %s\" % (index, values))"
   ]
  },
  {
   "cell_type": "markdown",
   "metadata": {},
   "source": [
    "<img align=\"left\" width=\"6%\" style=\"padding-right:10px;\" src=\"images/key.png\">\n",
    "\n",
    "The indexing for accessing single values in multi-dimensional arrays uses several comma-separated indices."
   ]
  },
  {
   "cell_type": "markdown",
   "metadata": {},
   "source": [
    "The first value for salinity is accessed in the below cell:"
   ]
  },
  {
   "cell_type": "code",
   "execution_count": null,
   "metadata": {},
   "outputs": [],
   "source": [
    "row = 0\n",
    "col = 0\n",
    "value = data_arr[row, col]\n",
    "print(\"value[%d, %d] = %s\" % (row, col, value))"
   ]
  },
  {
   "cell_type": "markdown",
   "metadata": {},
   "source": [
    "Similarly, we can access the last value of the temperature values:"
   ]
  },
  {
   "cell_type": "code",
   "execution_count": null,
   "metadata": {},
   "outputs": [],
   "source": [
    "row = -1\n",
    "col = -1\n",
    "value = data_arr[row, col]\n",
    "print(\"value[%d, %d] = %s\" % (row, col, value))"
   ]
  },
  {
   "cell_type": "markdown",
   "metadata": {},
   "source": [
    "Slicing for multi-dimensional arrays work in the same way, with multiple slices separated by commas. \n",
    "\n",
    "For example, to access the first 4 values of salinity:"
   ]
  },
  {
   "cell_type": "code",
   "execution_count": null,
   "metadata": {},
   "outputs": [],
   "source": [
    "row = 0\n",
    "col_stop = 4\n",
    "values = data_arr[row, :col_stop]\n",
    "print(\"sub-array[%d, :%d] = %s\" % (row, col_stop, values))"
   ]
  },
  {
   "cell_type": "markdown",
   "metadata": {},
   "source": [
    "At the beginning of this section, we have seen a way to access a specific row in an array (i.e., `values = data_arr[index]`). Another way to obtain the same result is using slicing and putting a single colon (`:`) for the column dimension:"
   ]
  },
  {
   "cell_type": "code",
   "execution_count": null,
   "metadata": {},
   "outputs": [],
   "source": [
    "print(\"first row = %s\" % (data_arr[0, :]))"
   ]
  },
  {
   "cell_type": "markdown",
   "metadata": {},
   "source": [
    "By putting a single colon (`:`) in the row dimension, you can retrieve a specific column:"
   ]
  },
  {
   "cell_type": "code",
   "execution_count": null,
   "metadata": {},
   "outputs": [],
   "source": [
    "print(\"third column = %s\" % (data_arr[:, 2]))"
   ]
  },
  {
   "cell_type": "markdown",
   "metadata": {},
   "source": [
    "In the output above, `33.6` is the third salinity value, while `13.7` is the third temperature value."
   ]
  },
  {
   "cell_type": "markdown",
   "metadata": {},
   "source": [
    "***"
   ]
  },
  {
   "cell_type": "markdown",
   "metadata": {},
   "source": [
    "<img align=\"left\" width=\"6%\" style=\"padding-right:10px; padding-top:10px;\" src=\"images/refs.png\">\n",
    "\n",
    "## Useful References"
   ]
  },
  {
   "cell_type": "markdown",
   "metadata": {},
   "source": [
    "* [The official Python 3.6 documentation](https://docs.python.org/3.6/index.html)\n",
    "  * [Tuple](https://docs.python.org/3.6/library/stdtypes.html?#tuples)\n",
    "* [Programming Basics with Python](https://github.com/hydroffice/python_basics)\n",
    "* [Introduction to Ocean Data Science - Scientific Computing slides](https://bitbucket.org/hydroffice/hyo_epom/downloads/ePOM.Intro_to_Ocean_Data_Science.Scientific_Computing.pdf)\n",
    "* The NumPy Package:\n",
    "  * [Website](https://www.numpy.org/)\n",
    "  * [`zeros()`](https://www.numpy.org/devdocs/reference/generated/numpy.zeros.html?#numpy.zeros)\n",
    "  * [`full()`](https://www.numpy.org/devdocs/reference/generated/numpy.full.html?#numpy.full)\n",
    "  * [`array()`](https://www.numpy.org/devdocs/reference/generated/numpy.full.html?#numpy.array)\n",
    "  * [`arange()`](https://docs.scipy.org/doc/numpy/reference/generated/numpy.arange.html)\n",
    "  * [`linspace()`](https://docs.scipy.org/doc/numpy/reference/generated/numpy.linspace.html)\n",
    "  * [`copy()`](https://docs.scipy.org/doc/numpy/reference/generated/numpy.copy.html)"
   ]
  },
  {
   "cell_type": "markdown",
   "metadata": {},
   "source": [
    "<img align=\"left\" width=\"5%\" style=\"padding-right:10px;\" src=\"images/email.png\">\n",
    "\n",
    "*For issues or suggestions related to this notebook, write to: epom@ccom.unh.edu*"
   ]
  },
  {
   "cell_type": "markdown",
   "metadata": {},
   "source": [
    "<!--NAVIGATION-->\n",
    "| [Contents](index.ipynb) | [Adopting NumPy in Class Methods >](COMP_001_Adopting_NumPy_in_Class_Methods.ipynb)"
   ]
  }
 ],
 "metadata": {
  "kernelspec": {
   "display_name": "Python 3",
   "language": "python",
   "name": "python3"
  },
  "language_info": {
   "codemirror_mode": {
    "name": "ipython",
    "version": 3
   },
   "file_extension": ".py",
   "mimetype": "text/x-python",
   "name": "python",
   "nbconvert_exporter": "python",
   "pygments_lexer": "ipython3",
   "version": "3.6.7"
  }
 },
 "nbformat": 4,
 "nbformat_minor": 2
}
