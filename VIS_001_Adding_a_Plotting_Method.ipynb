{
 "cells": [
  {
   "cell_type": "markdown",
   "metadata": {},
   "source": [
    "<a href=\"https://www.hydroffice.org/epom/\"><img src=\"images/000_000_epom_logo.png\" alt=\"ePOM\" title=\"Open ePOM home page\" align=\"center\" width=\"12%\" alt=\"Python logo\\\"></a>"
   ]
  },
  {
   "cell_type": "markdown",
   "metadata": {},
   "source": [
    "<a href=\"https://piazza.com/e-learning_python_for_ocean_mapping/fall2019/om100/home\"><img src=\"images/help.png\" alt=\"ePOM\" title=\"Ask questions on Piazza.com\" align=\"right\" width=\"10%\" alt=\"Piazza.com\\\"></a>\n",
    "# Adding a Plotting Method"
   ]
  },
  {
   "cell_type": "markdown",
   "metadata": {},
   "source": [
    "In [this past notebook](OOP_001_More_About_Classes.ipynb), we have seen how to add a method to a class."
   ]
  },
  {
   "cell_type": "markdown",
   "metadata": {},
   "source": [
    "The task of this notebook is to add a method that plots the data loaded using the previously-coded `read()` method. But first, please execute the following initialization code."
   ]
  },
  {
   "cell_type": "code",
   "execution_count": null,
   "metadata": {},
   "outputs": [],
   "source": [
    "%load_ext autoreload\n",
    "%autoreload 2\n",
    "%matplotlib inline\n",
    "\n",
    "import sys\n",
    "import os\n",
    "\n",
    "sys.path.append(os.getcwd())"
   ]
  },
  {
   "cell_type": "markdown",
   "metadata": {},
   "source": [
    "## External Code to Plot Class Data"
   ]
  },
  {
   "cell_type": "markdown",
   "metadata": {},
   "source": [
    "Before writing the `plot()` method as an exercise, we will implement the plotting functionality external to the class:"
   ]
  },
  {
   "cell_type": "code",
   "execution_count": null,
   "metadata": {},
   "outputs": [],
   "source": [
    "import matplotlib.pyplot as plt\n",
    "from solutions.waterlevel_read import WaterLevel\n",
    "import os\n",
    "\n",
    "wl_path = os.path.join(os.getcwd(), \"data\", \"tide.txt\")  # the 'tide.txt' file is located under the `data` folder\n",
    "wl = WaterLevel(data_path=wl_path)\n",
    "wl.read()\n",
    "\n",
    "# Plot the retrieved data\n",
    "plt.plot(wl.times, wl.water_levels)\n",
    "plt.title(\"Water Levels\")\n",
    "plt.xlabel(\"Time\")\n",
    "plt.ylabel(\"Level[m]\")\n",
    "plt.grid()\n",
    "plt.gcf().autofmt_xdate()  # beautify the x-labels\n",
    "plt.show()"
   ]
  },
  {
   "cell_type": "markdown",
   "metadata": {},
   "source": [
    "## Moving the External Code into a plot() Method"
   ]
  },
  {
   "cell_type": "markdown",
   "metadata": {},
   "source": [
    "With a few lines, the last part of the previous code cell plots the retrieved water-level data."
   ]
  },
  {
   "cell_type": "markdown",
   "metadata": {},
   "source": [
    "Although the resulting figure will be exactly the same, there is value in moving the plotting code into a `plot()` method of the `WaterLevels` class. \n",
    "\n",
    "The code details for the figure creation become *hidden* in your class! For instance, you may later modify the plots, and scripts using the class will keep working (as long as you do not modify the method name or the required parameters)."
   ]
  },
  {
   "cell_type": "markdown",
   "metadata": {},
   "source": [
    "<img align=\"left\" width=\"6%\" style=\"padding-right:10px;\" src=\"images/key.png\">\n",
    "\n",
    "Adding methods to a class, as above, is a clear example of the power of object-oriented programming. A code improvement will propagate to all code that uses the class."
   ]
  },
  {
   "cell_type": "markdown",
   "metadata": {},
   "source": [
    " "
   ]
  },
  {
   "cell_type": "markdown",
   "metadata": {
    "solution2": "hidden",
    "solution2_first": true
   },
   "source": [
    "<img align=\"left\" width=\"6%\" style=\"padding-right:10px;\" src=\"images/test.png\">\n",
    "\n",
    "Extend the `WaterLevel` class in the `waterlevel.py` file with a `plot(self)` that plots the retrieved times and water levels.\n",
    "<br><br>\n",
    "*The solution code imports the `WaterLevel` class from the `waterlevel_plot` module located in the `solutions` folder.*"
   ]
  },
  {
   "cell_type": "code",
   "execution_count": null,
   "metadata": {
    "solution2": "hidden"
   },
   "outputs": [],
   "source": [
    "from solutions.waterlevel_plot import WaterLevel\n",
    "import os\n",
    "\n",
    "wl_path = os.path.join(os.getcwd(), \"data\", \"tide.txt\")  # the 'tide.txt' file is located under the `data` folder\n",
    "wl = WaterLevel(data_path=wl_path)\n",
    "wl.read()\n",
    "wl.plot()"
   ]
  },
  {
   "cell_type": "code",
   "execution_count": null,
   "metadata": {},
   "outputs": [],
   "source": [
    "from mycode.waterlevel import WaterLevel\n",
    "import os\n",
    "\n",
    "wl_path = os.path.join(os.getcwd(), \"data\", \"tide.txt\")  # the 'tide.txt' file is located under the `data` folder\n",
    "wl = WaterLevel(data_path=wl_path)\n",
    "wl.read()\n",
    "wl.plot()"
   ]
  },
  {
   "cell_type": "markdown",
   "metadata": {},
   "source": [
    "***"
   ]
  },
  {
   "cell_type": "markdown",
   "metadata": {},
   "source": [
    "<img align=\"left\" width=\"6%\" style=\"padding-right:10px; padding-top:10px;\" src=\"images/refs.png\">\n",
    "\n",
    "## Useful References"
   ]
  },
  {
   "cell_type": "markdown",
   "metadata": {},
   "source": [
    "* [The official Python 3.6 documentation](https://docs.python.org/3.6/index.html)\n",
    "* [Programming Basics with Python](https://github.com/hydroffice/python_basics)\n",
    "* The Matplotlib Package:\n",
    "  * [Website](https://matplotlib.org/)\n",
    "  * [Documentation](https://matplotlib.org/users/index.html)\n",
    "  * [plot()](https://matplotlib.org/api/_as_gen/matplotlib.pyplot.plot.html#matplotlib-pyplot-plot)"
   ]
  },
  {
   "cell_type": "markdown",
   "metadata": {},
   "source": [
    "<img align=\"left\" width=\"5%\" style=\"padding-right:10px;\" src=\"images/email.png\">\n",
    "\n",
    "*For issues or suggestions related to this notebook, write to: epom@ccom.unh.edu*"
   ]
  },
  {
   "cell_type": "markdown",
   "metadata": {},
   "source": [
    "<!--NAVIGATION-->\n",
    "[< Intro to Matplotlib](VIS_000_Intro_to_Matplotlib.ipynb) | [Contents](index.ipynb) |"
   ]
  }
 ],
 "metadata": {
  "kernelspec": {
   "display_name": "Python 3",
   "language": "python",
   "name": "python3"
  },
  "language_info": {
   "codemirror_mode": {
    "name": "ipython",
    "version": 3
   },
   "file_extension": ".py",
   "mimetype": "text/x-python",
   "name": "python",
   "nbconvert_exporter": "python",
   "pygments_lexer": "ipython3",
   "version": "3.6.7"
  }
 },
 "nbformat": 4,
 "nbformat_minor": 2
}
