{
 "cells": [
  {
   "cell_type": "markdown",
   "metadata": {},
   "source": [
    "<a href=\"https://www.hydroffice.org/epom/\"><img src=\"images/000_000_epom_logo.png\" alt=\"ePOM\" title=\"Open ePOM home page\" align=\"center\" width=\"12%\" alt=\"Python logo\\\"></a>"
   ]
  },
  {
   "cell_type": "markdown",
   "metadata": {},
   "source": [
    "<a href=\"https://piazza.com/e-learning_python_for_ocean_mapping/fall2019/om100/home\"><img src=\"images/help.png\" alt=\"ePOM\" title=\"Ask questions on Piazza.com\" align=\"right\" width=\"10%\" alt=\"Piazza.com\\\"></a>\n",
    "# Intro to Matplotlib"
   ]
  },
  {
   "cell_type": "markdown",
   "metadata": {},
   "source": [
    "[Matplotlib](https://matplotlib.org/) is the most popular Python plotting package for creating histograms, bar charts, scatter plots, etc."
   ]
  },
  {
   "cell_type": "markdown",
   "metadata": {},
   "source": [
    "<img align=\"left\" width=\"6%\" style=\"padding-right:10px;\" src=\"images/key.png\">\n",
    "\n",
    "You can use Matplotlib to create high-quality figures in a variety of formats and with just a few lines of code."
   ]
  },
  {
   "cell_type": "markdown",
   "metadata": {},
   "source": [
    "To get an idea of what you can do with Matplotlib, you can explore the official [sample plots](https://matplotlib.org/tutorials/introductory/sample_plots.html) and the [thumbnail gallery](https://matplotlib.org/gallery/index.html)."
   ]
  },
  {
   "cell_type": "markdown",
   "metadata": {},
   "source": [
    "The following code cell performs two preliminary **required** operations:\n",
    "\n",
    "* Import the `pyplot` module from the `matplotlib` package, and give to the imported module the commonly-used short name of `plt` (using the keyword `as`). \n",
    "* Set to output the figure within the notebook itself. (It is also possible to show the figure in a separate window.)"
   ]
  },
  {
   "cell_type": "code",
   "execution_count": null,
   "metadata": {},
   "outputs": [],
   "source": [
    "import matplotlib.pyplot as plt\n",
    "\n",
    "%matplotlib inline"
   ]
  },
  {
   "cell_type": "markdown",
   "metadata": {},
   "source": [
    "<img align=\"left\" width=\"6%\" style=\"padding-right:10px;\" src=\"images/key.png\">\n",
    "\n",
    "Any time that you restart this notebook, remember to execute the above cell!"
   ]
  },
  {
   "cell_type": "markdown",
   "metadata": {},
   "source": [
    "# Your First Plots"
   ]
  },
  {
   "cell_type": "markdown",
   "metadata": {},
   "source": [
    "Our first plot will display a list of temperature values:"
   ]
  },
  {
   "cell_type": "code",
   "execution_count": null,
   "metadata": {},
   "outputs": [],
   "source": [
    "temp_list = [11.2, 11.0, 13.7, 16.0, 16.1, 16.2, 16.1]\n",
    "plt.plot(temp_list)\n",
    "plt.show()"
   ]
  },
  {
   "cell_type": "markdown",
   "metadata": {},
   "source": [
    "As the code above shows, plotting is very simple! \n",
    "\n",
    "The two minimum required steps are:\n",
    "\n",
    "* Call the `plot()` function with some data (the `temp_list` in this specific case).\n",
    "* Call the `show()` function."
   ]
  },
  {
   "cell_type": "markdown",
   "metadata": {},
   "source": [
    "The above plot has:\n",
    "\n",
    "* On the vertical axis, a range of values based on the content of `temp_list`.\n",
    "* On the horizontal axis, the indices of each temperature value in the `temp_list`."
   ]
  },
  {
   "cell_type": "markdown",
   "metadata": {},
   "source": [
    "If two lists of data are passed to the `plot()` function, then:\n",
    "\n",
    "* The values in the first list are used as the coordinates for the horizontal axis (i.e., the `x` values).\n",
    "* The values in the second list are used as the coordinates for the vertical axis (i.e., the `y` values)."
   ]
  },
  {
   "cell_type": "markdown",
   "metadata": {},
   "source": [
    "We will use a [temperature-salinity diagram](https://en.wikipedia.org/wiki/Temperature%E2%80%93salinity_diagram) as an example of a plot that can be created passing two lists: "
   ]
  },
  {
   "cell_type": "code",
   "execution_count": null,
   "metadata": {},
   "outputs": [],
   "source": [
    "sal_list = [34.4, 34.1, 33.6, 31.7, 31.3, 31.2, 31.0]  # new code\n",
    "temp_list = [11.2, 11.0, 13.7, 16.0, 16.1, 16.2, 16.1]\n",
    "plt.plot(sal_list, temp_list)  # modified code\n",
    "plt.show()"
   ]
  },
  {
   "cell_type": "markdown",
   "metadata": {},
   "source": [
    "In the above plot, the axes match the extent of the data. This is the default behavior!\n",
    "\n",
    "However, you may need to zoom on a particular area of the plot. You can achieve such a task by manually defining the plot extent calling the `axis()` function with a list of four values: `[xmin, xmax, ymin, ymax]`:"
   ]
  },
  {
   "cell_type": "code",
   "execution_count": null,
   "metadata": {},
   "outputs": [],
   "source": [
    "sal_list = [34.4, 34.1, 33.6, 31.7, 31.3, 31.2, 31.0]\n",
    "temp_list = [11.2, 11.0, 13.7, 16.0, 16.1, 16.2, 16.1]\n",
    "plt.plot(sal_list, temp_list)\n",
    "plt.axis([32.0, 34.0, 11.0, 16.0])  # new code\n",
    "plt.show()"
   ]
  },
  {
   "cell_type": "markdown",
   "metadata": {},
   "source": [
    "The above plot lacks several elements that would help a reader to better understand its content. In the next code cell, we will add a few of them:\n",
    "\n",
    "* A title (using the `plt.title()` function).\n",
    "* A label for the `x` and the `y` axes (using the `plt.xlabel()` and `plt.ylabel()` functions).\n",
    "* A grid in the plot background (using the `plt.grid()` function)."
   ]
  },
  {
   "cell_type": "code",
   "execution_count": null,
   "metadata": {},
   "outputs": [],
   "source": [
    "sal_list = [34.4, 34.1, 33.6, 31.7, 31.3, 31.2, 31.0]\n",
    "temp_list = [11.2, 11.0, 13.7, 16.0, 16.1, 16.2, 16.1]\n",
    "plt.plot(sal_list, temp_list)\n",
    "plt.axis([32.0, 34.0, 11.0, 16.0])  \n",
    "plt.title(\"T-S Diagram\")  # new code\n",
    "plt.xlabel(\"Salinity[PSU]\")  # new code\n",
    "plt.ylabel(\"Temperature[Celsius]\")  # new code\n",
    "plt.grid()  # new code\n",
    "plt.show()"
   ]
  },
  {
   "cell_type": "markdown",
   "metadata": {},
   "source": [
    " "
   ]
  },
  {
   "cell_type": "markdown",
   "metadata": {
    "solution2": "hidden",
    "solution2_first": true
   },
   "source": [
    "<img align=\"left\" width=\"6%\" style=\"padding-right:10px;\" src=\"images/test.png\">\n",
    "\n",
    "Create a \"Vessel Positions\" plot showing the position of vessel provided as two lists of values (longitudes and latitudes, respectively). Set the plot extent between `50.0` and `55.0`, for longitudes, and between `30.0` and `38.0`, for latitudes. "
   ]
  },
  {
   "cell_type": "code",
   "execution_count": null,
   "metadata": {
    "solution2": "hidden"
   },
   "outputs": [],
   "source": [
    "lon_list = [50.3, 50.9, 51.6, 52.0, 52.8, 53.6, 54.7]\n",
    "lat_list = [30.5, 31.3, 32.7, 33.4, 35.1, 36.0, 36.6]\n",
    "\n",
    "plt.plot(lon_list, lat_list)\n",
    "plt.axis([50.0, 55.0, 30.0, 38.0])  \n",
    "plt.title(\"Vessel Position\")\n",
    "plt.xlabel(\"Longitude\")\n",
    "plt.ylabel(\"Latitude\")\n",
    "plt.grid()\n",
    "plt.show()"
   ]
  },
  {
   "cell_type": "code",
   "execution_count": null,
   "metadata": {},
   "outputs": [],
   "source": [
    "lon_list = [50.3, 50.9, 51.6, 52.0, 52.8, 53.6, 54.7]\n",
    "lat_list = [30.5, 31.3, 32.7, 33.4, 35.1, 36.0, 36.6]"
   ]
  },
  {
   "cell_type": "markdown",
   "metadata": {},
   "source": [
    "***"
   ]
  },
  {
   "cell_type": "markdown",
   "metadata": {},
   "source": [
    "<img align=\"left\" width=\"6%\" style=\"padding-right:10px; padding-top:10px;\" src=\"images/refs.png\">\n",
    "\n",
    "## Useful References"
   ]
  },
  {
   "cell_type": "markdown",
   "metadata": {},
   "source": [
    "* The Matplotlib package:\n",
    "  * [Website](https://matplotlib.org/)\n",
    "  * [Documentation](https://matplotlib.org/users/index.html)\n",
    "* [Temperature-Salinity diagram](https://en.wikipedia.org/wiki/Temperature%E2%80%93salinity_diagram)"
   ]
  },
  {
   "cell_type": "markdown",
   "metadata": {},
   "source": [
    "<img align=\"left\" width=\"5%\" style=\"padding-right:10px;\" src=\"images/email.png\">\n",
    "\n",
    "*For issues or suggestions related to this notebook, write to: epom@ccom.unh.edu*"
   ]
  },
  {
   "cell_type": "markdown",
   "metadata": {},
   "source": [
    "<!--NAVIGATION-->\n",
    "[< Previous](empty.ipynb) | [Contents](index.ipynb) | [Next >](empty.ipynb)"
   ]
  }
 ],
 "metadata": {
  "kernelspec": {
   "display_name": "Python 3",
   "language": "python",
   "name": "python3"
  },
  "language_info": {
   "codemirror_mode": {
    "name": "ipython",
    "version": 3
   },
   "file_extension": ".py",
   "mimetype": "text/x-python",
   "name": "python",
   "nbconvert_exporter": "python",
   "pygments_lexer": "ipython3",
   "version": "3.6.7"
  }
 },
 "nbformat": 4,
 "nbformat_minor": 2
}
