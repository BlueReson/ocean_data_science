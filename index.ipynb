{
 "cells": [
  {
   "cell_type": "markdown",
   "metadata": {},
   "source": [
    "<a href=\"https://www.hydroffice.org/epom/\"><img src=\"images/000_000_epom_logo.png\" alt=\"ePOM\" title=\"Open ePOM home page\" align=\"center\" width=\"12%\" alt=\"Python logo\\\"></a>"
   ]
  },
  {
   "cell_type": "markdown",
   "metadata": {},
   "source": [
    "# Introduction to Ocean Data Science"
   ]
  },
  {
   "cell_type": "markdown",
   "metadata": {},
   "source": [
    "Ocean [data science](https://en.wikipedia.org/wiki/Data_science) is a broad and interdisciplinary topic that requires statistical and modeling knowledge as well as computer science skills, coupled with expertise in ocean mapping. "
   ]
  },
  {
   "cell_type": "markdown",
   "metadata": {},
   "source": [
    "It would take an overwhelming amount of work to cover all the aspects of ocean data science, and there are many cross-overs with material covered in other courses. The [*Introduction to Ocean Data Science* notebooks](https://github.com/hydroffice/ocean_data_science) will only teach you a selected number of basic concepts in ocean data science and will introduce some popular Python libraries related to the subject. This will help you to prepare you for coming assignments (for this and other courses) and your own research. "
   ]
  },
  {
   "cell_type": "markdown",
   "metadata": {},
   "source": [
    "The notebooks assume some level of Python knowledge. Mainly, you need the concepts introduced in the [*Programming Basics for Python* notebooks](https://github.com/hydroffice/python_basics). If you are not familiar with these earlier notebooks, you should start from [Programming Basics with Python - Quick Start](https://www.hydroffice.org/manuals/epom/python_basics_quickstart.html)."
   ]
  },
  {
   "cell_type": "markdown",
   "metadata": {},
   "source": [
    "The notebooks are organized in four modules:\n",
    "\n",
    "* Object-Oriented Programming.\n",
    "* Data Visualization.\n",
    "* Scientific Computing.\n",
    "* Data Input/Output and Conversion.\n",
    "\n",
    "You can access the corresponding notebooks by clicking on the links in the following sections."
   ]
  },
  {
   "cell_type": "markdown",
   "metadata": {},
   "source": [
    "## Object-Oriented Programming"
   ]
  },
  {
   "cell_type": "markdown",
   "metadata": {},
   "source": [
    "| Notebook Name | Topics |\n",
    "| --- | --- |\n",
    "| [First Steps of a Class](OOP_000_First_Steps_of_a_Class.ipynb) | `class`, `__init__`, `self`, `__str__`, class attributes |\n",
    "| [More About Classes](OOP_001_More_About_Classes.ipynb) | `class` interface, how to add a method,  `datetime.fromtimestamp` |"
   ]
  },
  {
   "cell_type": "markdown",
   "metadata": {},
   "source": [
    "## Data Visualization"
   ]
  },
  {
   "cell_type": "markdown",
   "metadata": {},
   "source": [
    "| Notebook Name | Topics |\n",
    "| --- | --- |\n",
    "| [Intro to Matplotlib](VIS_000_Intro_to_Matplotlib.ipynb) | `matplotlib.plot()`,  `cartopy` |\n",
    "| [Adding a Plotting Method](VIS_001_Adding_a_Plotting_Method.ipynb) | how to add a `plot()` method |"
   ]
  },
  {
   "cell_type": "markdown",
   "metadata": {},
   "source": [
    "## Scientific Computing"
   ]
  },
  {
   "cell_type": "markdown",
   "metadata": {},
   "source": [
    "| Notebook Name | Topics |\n",
    "| --- | --- |\n",
    "| [Intro to Numpy](COMP_000_Intro_to_NumPy.ipynb) | `numpy.array()` |\n",
    "| [Adopting Numpy in Class Methods](COMP_001_Adopting_NumPy_in_Class_Methods.ipynb) | how to modify `read()` and `plot()` |"
   ]
  },
  {
   "cell_type": "markdown",
   "metadata": {},
   "source": [
    "## Data Input/Output and Conversion"
   ]
  },
  {
   "cell_type": "markdown",
   "metadata": {},
   "source": [
    "## Credits"
   ]
  },
  {
   "cell_type": "markdown",
   "metadata": {},
   "source": [
    "The notebooks are developed and maintained by:\n",
    "\n",
    "* [Giuseppe Masetti](mailto:gmasetti@ccom.unh.edu>)\n",
    "\n",
    "* [Rochelle Wigley](mailto:rochelle@ccom.unh.edu>)\n",
    "\n",
    "* [Semme Dijkstra](mailto:semmed@ccom.unh.edu>)\n",
    "\n",
    "* [Jordan Chadwick](mailto:jordan.chadwick@gmail.com>)"
   ]
  },
  {
   "cell_type": "markdown",
   "metadata": {},
   "source": [
    "## Code and Text License"
   ]
  },
  {
   "cell_type": "markdown",
   "metadata": {},
   "source": [
    "<a href=\"https://github.com/hydroffice/python_basics/raw/master/LICENSE\"><img src=\"https://github.com/hydroffice/python_basics/raw/master/images/LGPLv3.png\" alt=\"LGPLv3\" title=\"Open code license\" style=\"margin-right:10px;float:left;height:50px;\"></a>\n",
    "<a href=\"https://github.com/hydroffice/python_basics/raw/master/TEXT\"><img src=\"https://github.com/hydroffice/python_basics/raw/master/images/CC-BY-SA.png\" alt=\"CC BY-SA\" title=\"Open text license\" style=\"margin:0px;float:left;height:50px;\"></a>"
   ]
  },
  {
   "cell_type": "markdown",
   "metadata": {},
   "source": [
    "## Code Repository"
   ]
  },
  {
   "cell_type": "markdown",
   "metadata": {},
   "source": [
    "GitHub url: [https://github.com/hydroffice/ocean_data_science](https://github.com/hydroffice/ocean_data_science)"
   ]
  },
  {
   "cell_type": "markdown",
   "metadata": {},
   "source": [
    "## Version"
   ]
  },
  {
   "cell_type": "markdown",
   "metadata": {},
   "source": [
    "1.0.0"
   ]
  },
  {
   "cell_type": "markdown",
   "metadata": {},
   "source": [
    " "
   ]
  },
  {
   "cell_type": "markdown",
   "metadata": {},
   "source": [
    "<img align=\"left\" width=\"5%\" style=\"padding-right:10px;\" src=\"images/email.png\">\n",
    "\n",
    "*For issues or suggestions related to these notebooks, write to: epom@ccom.unh.edu*"
   ]
  }
 ],
 "metadata": {
  "kernelspec": {
   "display_name": "Python 3",
   "language": "python",
   "name": "python3"
  },
  "language_info": {
   "codemirror_mode": {
    "name": "ipython",
    "version": 3
   },
   "file_extension": ".py",
   "mimetype": "text/x-python",
   "name": "python",
   "nbconvert_exporter": "python",
   "pygments_lexer": "ipython3",
   "version": "3.6.7"
  }
 },
 "nbformat": 4,
 "nbformat_minor": 2
}
