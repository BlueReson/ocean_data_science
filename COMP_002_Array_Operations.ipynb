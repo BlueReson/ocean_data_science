{
 "cells": [
  {
   "cell_type": "markdown",
   "metadata": {},
   "source": [
    "<a href=\"https://www.hydroffice.org/epom/\"><img src=\"images/000_000_epom_logo.png\" alt=\"ePOM\" title=\"Open ePOM home page\" align=\"center\" width=\"12%\" alt=\"Python logo\\\"></a>"
   ]
  },
  {
   "cell_type": "markdown",
   "metadata": {},
   "source": [
    "<a href=\"https://piazza.com/e-learning_python_for_ocean_mapping/fall2019/om100/home\"><img src=\"images/help.png\" alt=\"ePOM\" title=\"Ask questions on Piazza.com\" align=\"right\" width=\"10%\" alt=\"Piazza.com\\\"></a>\n",
    "# Array Operations"
   ]
  },
  {
   "cell_type": "markdown",
   "metadata": {},
   "source": [
    "The [Introduction to Numpy](COMP_000_Intro_to_Numpy.ipynb) notebook has provided an overview of some of the main [NumPy](https://www.numpy.org/) functionalities such as: \n",
    "\n",
    "* Creation of arrays with specific values or from existing lists.\n",
    "* Access to specific values in an array (**indexing**).\n",
    "* Extraction of sub-arrays from an array (**slicing**)."
   ]
  },
  {
   "cell_type": "markdown",
   "metadata": {},
   "source": [
    "The task of this notebook is to extend such a basic knowledge of Numpy, highlighting its flexible and optimized computation powers."
   ]
  },
  {
   "cell_type": "markdown",
   "metadata": {},
   "source": [
    "<img align=\"left\" width=\"6%\" style=\"padding-right:10px;\" src=\"images/key.png\">\n",
    "\n",
    "Operations on NumPy arrays can be very fast, but also very slow. The key is to use [**vectorized operation**](https://en.wikipedia.org/wiki/Array_programming) that operates on entire arrays at once."
   ]
  },
  {
   "cell_type": "markdown",
   "metadata": {},
   "source": [
    " We will also apply notions from the [Introduction to Matplotlib](VIS_000_Intro_to_Matplotlib.ipynb) notebook to visualize and, thus, better clarify the applied operations."
   ]
  },
  {
   "cell_type": "markdown",
   "metadata": {},
   "source": [
    "Before starting to use `numpy` and `matplotlib`, you have to execute the following cell:"
   ]
  },
  {
   "cell_type": "code",
   "execution_count": null,
   "metadata": {},
   "outputs": [],
   "source": [
    "%load_ext autoreload\n",
    "%autoreload 2\n",
    "%matplotlib inline\n",
    "\n",
    "import sys\n",
    "import os\n",
    "import matplotlib.pyplot as plt\n",
    "import numpy as np\n",
    "import matplotlib\n",
    "\n",
    "sys.path.append(os.getcwd())"
   ]
  },
  {
   "cell_type": "markdown",
   "metadata": {},
   "source": [
    "Similarly to what was done in previous notebooks, the cell below retrieves and prints the Numpy and Matplotlib versions:"
   ]
  },
  {
   "cell_type": "code",
   "execution_count": null,
   "metadata": {},
   "outputs": [],
   "source": [
    "print(\"Numpy version: %s\" % (np.__version__, ))\n",
    "print(\"Matplotlib version: %s\" % (matplotlib.__version__, ))"
   ]
  },
  {
   "cell_type": "markdown",
   "metadata": {},
   "source": [
    "***"
   ]
  },
  {
   "cell_type": "markdown",
   "metadata": {},
   "source": [
    "## Creating and Reshaping an Array with Random Values"
   ]
  },
  {
   "cell_type": "markdown",
   "metadata": {},
   "source": [
    "Numpy also provides means to create array of random value. For instance, calling [`random.random()`](https://docs.scipy.org/doc/numpy/reference/generated/numpy.random.random.html) creates an array of [uniformly distributed random values](https://en.wikipedia.org/wiki/Uniform_distribution_(continuous)) between 0 and 1."
   ]
  },
  {
   "cell_type": "markdown",
   "metadata": {},
   "source": [
    "<img align=\"left\" width=\"6%\" style=\"padding-right:10px;\" src=\"images/info.png\">\n",
    "\n",
    "Passing a fixed value to [`random.seed()`](https://docs.scipy.org/doc/numpy/reference/generated/numpy.random.seed.html) ensures that the same random values are generated each time that the code below is executed:"
   ]
  },
  {
   "cell_type": "markdown",
   "metadata": {},
   "source": [
    "<img align=\"left\" width=\"6%\" style=\"padding-right:10px;\" src=\"images/info.png\">\n",
    "\n",
    "Numpy arrays can be visualized by Matplotlib in a few way. A popular solution is to call [`imshow()`](https://matplotlib.org/api/_as_gen/matplotlib.pyplot.imshow.html)."
   ]
  },
  {
   "cell_type": "code",
   "execution_count": null,
   "metadata": {},
   "outputs": [],
   "source": [
    "np.random.seed(8880)  # seed for reproducibility\n",
    "\n",
    "arr = np.random.random((1, 12))\n",
    "print(arr)\n",
    "\n",
    "plt.imshow(arr)\n",
    "plt.colorbar()\n",
    "plt.show()"
   ]
  },
  {
   "cell_type": "markdown",
   "metadata": {},
   "source": [
    "The above cell created an array composed of a single row with 12 values. Numpy provides also the option of reshaping existing arrays using `reshape()`. For instance, the cell below reshape the array created above to an array with 3 rows and 4 columns:"
   ]
  },
  {
   "cell_type": "code",
   "execution_count": 4,
   "metadata": {},
   "outputs": [],
   "source": [
    "arr2 = arr.reshape((3, 4))\n",
    "print(arr2)\n",
    "\n",
    "plt.imshow(arr2)\n",
    "plt.colorbar()\n",
    "plt.show()"
   ]
  },
  {
   "cell_type": "markdown",
   "metadata": {},
   "source": [
    "<img align=\"left\" width=\"6%\" style=\"padding-right:10px;\" src=\"images/key.png\">\n",
    "\n",
    "In order to use `reshape()`, the size of the initial array must match the size requested for the reshaped array."
   ]
  },
  {
   "cell_type": "markdown",
   "metadata": {},
   "source": [
    "The `reshape()` can also be used to convert one-dimensional arrays into higher dimensional arrays. "
   ]
  },
  {
   "cell_type": "code",
   "execution_count": 5,
   "metadata": {},
   "outputs": [],
   "source": [
    "arr = np.array([12.0, 14.2, 23.1, 12.3, 9.1])\n",
    "print(\"1D array shape: %s\" % (arr.shape,))\n",
    "print(arr)\n",
    "\n",
    "arr2 = arr.reshape((1, 5))\n",
    "print(\"2D array shape with 1 row: %s\" % (arr2.shape,))\n",
    "print(arr2)\n",
    "\n",
    "arr3 = arr.reshape((5, 1))\n",
    "print(\"2D array shape with 1 column: %s\" % (arr3.shape,))\n",
    "print(arr3)"
   ]
  },
  {
   "cell_type": "markdown",
   "metadata": {},
   "source": [
    "---"
   ]
  },
  {
   "cell_type": "markdown",
   "metadata": {},
   "source": [
    "## Splitting and Concatenating Arrays"
   ]
  },
  {
   "cell_type": "markdown",
   "metadata": {},
   "source": [
    "The cell below creates two arrays with random values:"
   ]
  },
  {
   "cell_type": "code",
   "execution_count": 6,
   "metadata": {},
   "outputs": [],
   "source": [
    "arr_a = np.random.random((3, 4))\n",
    "print(arr_a)\n",
    "plt.imshow(arr_a)\n",
    "plt.colorbar()\n",
    "plt.show()\n",
    "\n",
    "arr_b = np.random.random((3, 4))\n",
    "print(arr_b)\n",
    "plt.imshow(arr_b)\n",
    "plt.colorbar()\n",
    "plt.show()"
   ]
  },
  {
   "cell_type": "markdown",
   "metadata": {},
   "source": [
    "<img align=\"left\" width=\"6%\" style=\"padding-right:10px;\" src=\"images/key.png\">\n",
    "\n",
    "The joining of two arrays (**concatenation**) can be obtained using [`concatenate()`](https://docs.scipy.org/doc/numpy/reference/generated/numpy.concatenate.html)."
   ]
  },
  {
   "cell_type": "code",
   "execution_count": 7,
   "metadata": {},
   "outputs": [],
   "source": [
    "arr_c = np.concatenate([arr_a, arr_b])\n",
    "\n",
    "print(arr_c)\n",
    "plt.imshow(arr_c)\n",
    "plt.colorbar()\n",
    "plt.show()"
   ]
  },
  {
   "cell_type": "markdown",
   "metadata": {},
   "source": [
    "As shown in the plot above, the default behavior is to concatenate along the first axis (vertically, for 2D arrays).\n",
    "\n",
    "If you want to concatenate horizontally, set the `axis` parameter to `1`:"
   ]
  },
  {
   "cell_type": "code",
   "execution_count": 8,
   "metadata": {},
   "outputs": [],
   "source": [
    "arr_d = np.concatenate([arr_a, arr_b], axis=1)\n",
    "\n",
    "print(arr_d)\n",
    "plt.imshow(arr_d)\n",
    "plt.colorbar()\n",
    "plt.show()"
   ]
  },
  {
   "cell_type": "markdown",
   "metadata": {},
   "source": [
    "Splitting an array is supported using [`split()`](https://docs.scipy.org/doc/numpy/reference/generated/numpy.split.html#numpy.split) and the number of equal arrays required along the passed axis. \n",
    "\n",
    "The cell below re-create the original `arr_a` and `arr_b` arrays:"
   ]
  },
  {
   "cell_type": "code",
   "execution_count": 9,
   "metadata": {},
   "outputs": [],
   "source": [
    "arr_e, arr_f = np.split(arr_d, 2, axis=1)\n",
    "\n",
    "print(arr_e)\n",
    "plt.imshow(arr_e)\n",
    "plt.colorbar()\n",
    "plt.show()\n",
    "\n",
    "print(arr_f)\n",
    "plt.imshow(arr_f)\n",
    "plt.colorbar()\n",
    "plt.show()"
   ]
  },
  {
   "cell_type": "markdown",
   "metadata": {},
   "source": [
    "---"
   ]
  },
  {
   "cell_type": "markdown",
   "metadata": {},
   "source": [
    "## Array Vectorization"
   ]
  },
  {
   "cell_type": "markdown",
   "metadata": {},
   "source": [
    "Mainly due to the dynamic and interpreted nature of the language, Python performs some operations very slowly. "
   ]
  },
  {
   "cell_type": "markdown",
   "metadata": {},
   "source": [
    "This computation issue manifests itself when a number of small operations are being repeated. A common case with such an issue is the looping over arrays to operate on each element."
   ]
  },
  {
   "cell_type": "code",
   "execution_count": 10,
   "metadata": {
    "scrolled": true
   },
   "outputs": [],
   "source": [
    "arr = np.random.random((40, 50))\n",
    "\n",
    "plt.imshow(arr)\n",
    "plt.colorbar()\n",
    "plt.show()"
   ]
  },
  {
   "cell_type": "markdown",
   "metadata": {},
   "source": [
    "The code below define a `divide_by()` function that loops through an array and divide each array element by the passed value:"
   ]
  },
  {
   "cell_type": "code",
   "execution_count": 11,
   "metadata": {},
   "outputs": [],
   "source": [
    "def divide_by(array, value):\n",
    "    output = np.empty_like(array)\n",
    "    for r in range(array.shape[0]):  # row looping\n",
    "        for c in range(array.shape[1]):  # column looping\n",
    "            output[r, c] = array[r, c] / value\n",
    "    return output"
   ]
  },
  {
   "cell_type": "markdown",
   "metadata": {},
   "source": [
    "We will now use the `%timeit` special method to benchmark the execution of the `compute_mean()`:"
   ]
  },
  {
   "cell_type": "code",
   "execution_count": 12,
   "metadata": {},
   "outputs": [
    {
     "name": "stdout",
     "output_type": "stream",
     "text": [
      "484 µs ± 1.68 µs per loop (mean ± std. dev. of 7 runs, 1000 loops each)\n"
     ]
    }
   ],
   "source": [
    "%timeit divide_by(arr, 2.0)"
   ]
  },
  {
   "cell_type": "markdown",
   "metadata": {},
   "source": [
    "The resulting execution time is quite slow given the processing power of any modern machine. What happens if we called the corresponding vectorized operation?"
   ]
  },
  {
   "cell_type": "code",
   "execution_count": 13,
   "metadata": {},
   "outputs": [
    {
     "name": "stdout",
     "output_type": "stream",
     "text": [
      "1.62 µs ± 4.8 ns per loop (mean ± std. dev. of 7 runs, 1000000 loops each)\n"
     ]
    }
   ],
   "source": [
    "%timeit arr / 2.0"
   ]
  },
  {
   "cell_type": "markdown",
   "metadata": {},
   "source": [
    "The above vectorized operation is hundreds of times faster! This is because the real bottleneck was not in the division in itself (modern machine are highly optimized for this kind of operations), but in the several, internal operations performed by Python at each loop cycle. Calling the Numpy vectorized operation simply avoided them!"
   ]
  },
  {
   "cell_type": "markdown",
   "metadata": {},
   "source": [
    "<img align=\"left\" width=\"6%\" style=\"padding-right:10px;\" src=\"images/info.png\">\n",
    "\n",
    "At each loop cycle, Python has first to evaluate the object types (**type-checking**) and dynamically look up for the function to use for each type (**function dispatch**). With the vectorized operator, these details are known at compilation time and the operation is computed more efficiently."
   ]
  },
  {
   "cell_type": "markdown",
   "metadata": {},
   "source": [
    "### Arithmetic Operators"
   ]
  },
  {
   "cell_type": "markdown",
   "metadata": {},
   "source": [
    "The standard [Python arithmetic operators](../python_basics/001_Variables_and_Types.ipynb#Numeric-Operators) are available as Numpy vectorized operations:"
   ]
  },
  {
   "cell_type": "code",
   "execution_count": 14,
   "metadata": {},
   "outputs": [
    {
     "name": "stdout",
     "output_type": "stream",
     "text": [
      "a       = [10. -8.  5. -7.  2.]\n",
      "-a      = [-10.   8.  -5.   7.  -2.]\n",
      "a  +  8 = [18.  0. 13.  1. 10.]\n",
      "a  -  3 = [  7. -11.   2. -10.  -1.]\n",
      "a  *  3 = [ 30. -24.  15. -21.   6.]\n",
      "a  /  2 = [ 5.  -4.   2.5 -3.5  1. ]\n",
      "a  // 2 = [ 5. -4.  2. -4.  1.]\n",
      "a  %  5 = [0. 2. 0. 3. 2.]\n",
      "a  ** 2 = [100.  64.  25.  49.   4.]\n"
     ]
    }
   ],
   "source": [
    "a = np.array([10.0, -8.0, 5.0, -7.0, 2.0])\n",
    "print(\"a       =\", a)\n",
    "print(\"-a      =\", -a)\n",
    "print(\"a  +  8 =\", a + 8)\n",
    "print(\"a  -  3 =\", a - 3)\n",
    "print(\"a  *  3 =\", a * 3)\n",
    "print(\"a  /  2 =\", a / 2)\n",
    "print(\"a  // 2 =\", a // 2)  # floor division\n",
    "print(\"a  %  5 =\", a % 5)  # modulo operator\n",
    "print(\"a  ** 2 =\", a ** 2)  # power operator"
   ]
  },
  {
   "cell_type": "markdown",
   "metadata": {},
   "source": [
    "Each of the above operators has a corresponding Numpy function. For instance, the power operator (`**`) and `np.power()`."
   ]
  },
  {
   "cell_type": "code",
   "execution_count": 15,
   "metadata": {},
   "outputs": [
    {
     "name": "stdout",
     "output_type": "stream",
     "text": [
      "a  ** 2 = [100.  64.  25.  49.   4.]\n"
     ]
    }
   ],
   "source": [
    "print(\"a  ** 2 =\", np.power(a, 2))"
   ]
  },
  {
   "cell_type": "markdown",
   "metadata": {},
   "source": [
    "### Mathematical and Trigonometric Functions"
   ]
  },
  {
   "cell_type": "markdown",
   "metadata": {},
   "source": [
    "Numpy provides an extended set of mathematical and trigonometric vectorized functions. The below cell lists a few of them:"
   ]
  },
  {
   "cell_type": "code",
   "execution_count": 16,
   "metadata": {},
   "outputs": [
    {
     "name": "stdout",
     "output_type": "stream",
     "text": [
      "a       = [-3.14159265  0.          3.14159265]\n",
      "abs(a)  = [3.14159265 0.         3.14159265]\n",
      "sin(a)  = [-1.2246468e-16  0.0000000e+00  1.2246468e-16]\n",
      "cos(a)  = [-1.  1. -1.]\n",
      "tan(a)  = [ 1.2246468e-16  0.0000000e+00 -1.2246468e-16]\n"
     ]
    }
   ],
   "source": [
    "a = np.linspace(-np.pi, np.pi, 3)  # np.pi provides the pi mathematical constant\n",
    "print(\"a       =\", a)\n",
    "print(\"abs(a)  =\", np.abs(a))\n",
    "print(\"sin(a)  =\", np.sin(a))\n",
    "print(\"cos(a)  =\", np.cos(a))\n",
    "print(\"tan(a)  =\", np.tan(a))"
   ]
  },
  {
   "cell_type": "markdown",
   "metadata": {},
   "source": [
    "### Aggregation Functions"
   ]
  },
  {
   "cell_type": "markdown",
   "metadata": {},
   "source": [
    "NumPy provides vectorized aggregation functions for working on arrays."
   ]
  },
  {
   "cell_type": "code",
   "execution_count": 17,
   "metadata": {},
   "outputs": [],
   "source": [
    "b = np.array([[2.5, -2.0, 0.3, 1.0, 1.0],\n",
    "              [1.5, -1.0, -0.5, -1.0, 1.2]])"
   ]
  },
  {
   "cell_type": "markdown",
   "metadata": {},
   "source": [
    "The `sum()` function returns the cumulative sum for all the array values."
   ]
  },
  {
   "cell_type": "code",
   "execution_count": 18,
   "metadata": {},
   "outputs": [
    {
     "data": {
      "text/plain": [
       "3.0"
      ]
     },
     "execution_count": 18,
     "metadata": {},
     "output_type": "execute_result"
    }
   ],
   "source": [
    "b.sum()"
   ]
  },
  {
   "cell_type": "markdown",
   "metadata": {},
   "source": [
    "If you want to aggregate along rows or columns, you set the `axis` parameter:"
   ]
  },
  {
   "cell_type": "code",
   "execution_count": 19,
   "metadata": {},
   "outputs": [
    {
     "name": "stdout",
     "output_type": "stream",
     "text": [
      "cumulative sum along rows: [2.8 0.2]\n",
      "cumulative sum along colums: [ 4.  -3.  -0.2  0.   2.2]\n"
     ]
    }
   ],
   "source": [
    "print(\"cumulative sum along rows: %s\" % b.sum(axis=1))\n",
    "print(\"cumulative sum along colums: %s\" % b.sum(axis=0))"
   ]
  },
  {
   "cell_type": "markdown",
   "metadata": {},
   "source": [
    "---"
   ]
  },
  {
   "cell_type": "markdown",
   "metadata": {},
   "source": [
    "## Broadcasting"
   ]
  },
  {
   "cell_type": "markdown",
   "metadata": {},
   "source": [
    "<img align=\"left\" width=\"6%\" style=\"padding-right:10px;\" src=\"images/key.png\">\n",
    "\n",
    "Broadcasting allows operations to be performed on arrays with different sizes."
   ]
  },
  {
   "cell_type": "markdown",
   "metadata": {},
   "source": [
    "NumPy broadcasting provides another means of optimizing operations using vectorization. "
   ]
  },
  {
   "cell_type": "markdown",
   "metadata": {},
   "source": [
    "These are the set of rules applied in broadcasting to determine the interaction between a pair of arrays:\n",
    "\n",
    "1. If the arrays differ in the number of dimensions, the shape of the one with fewer dimensions is padded with ones on its leading (left) side.\n",
    "2. After 1., if the shape of the two arrays does not match in any dimension, the array with shape equal to 1 has that dimension stretched to match the other shape.\n",
    "3. An error is raised when the sizes disagree in any dimension, and neither size is equal to 1."
   ]
  },
  {
   "cell_type": "markdown",
   "metadata": {},
   "source": [
    "In the cells below, rules 1 and 2 are applied to `b`:"
   ]
  },
  {
   "cell_type": "code",
   "execution_count": 20,
   "metadata": {},
   "outputs": [
    {
     "name": "stdout",
     "output_type": "stream",
     "text": [
      "a shape: (2, 3)\n",
      "[[1. 1. 1.]\n",
      " [1. 1. 1.]]\n",
      "b shape: (3,)\n",
      "[0 1 2]\n",
      "a + b shape: (2, 3)\n",
      "[[1. 2. 3.]\n",
      " [1. 2. 3.]]\n"
     ]
    }
   ],
   "source": [
    "a = np.ones((2, 3))\n",
    "print(\"a shape: %s\" % (a.shape,))\n",
    "print(a)\n",
    "b = np.array([0, 1, 2])  # 1D row array\n",
    "print(\"b shape: %s\" % (b.shape,))\n",
    "print(b)\n",
    "\n",
    "c = a + b\n",
    "print(\"a + b shape: %s\" % (c.shape,))\n",
    "print(c)"
   ]
  },
  {
   "cell_type": "code",
   "execution_count": 21,
   "metadata": {},
   "outputs": [
    {
     "name": "stdout",
     "output_type": "stream",
     "text": [
      "a shape: (3, 2)\n",
      "[[1. 1.]\n",
      " [1. 1.]\n",
      " [1. 1.]]\n",
      "b shape: (3, 1)\n",
      "[[0]\n",
      " [1]\n",
      " [2]]\n",
      "a + b shape: (3, 2)\n",
      "[[1. 1.]\n",
      " [2. 2.]\n",
      " [3. 3.]]\n"
     ]
    }
   ],
   "source": [
    "a = np.ones((3, 2))\n",
    "print(\"a shape: %s\" % (a.shape,))\n",
    "print(a)\n",
    "b = np.array([[0], [1], [2]])  # 1D column array\n",
    "print(\"b shape: %s\" % (b.shape,))\n",
    "print(b)\n",
    "\n",
    "c = a + b\n",
    "print(\"a + b shape: %s\" % (c.shape,))\n",
    "print(c)"
   ]
  },
  {
   "cell_type": "markdown",
   "metadata": {},
   "source": [
    "The cell below raises an error because of rule 3."
   ]
  },
  {
   "cell_type": "code",
   "execution_count": 22,
   "metadata": {},
   "outputs": [
    {
     "name": "stdout",
     "output_type": "stream",
     "text": [
      "a shape: (3, 2)\n",
      "[[1. 1.]\n",
      " [1. 1.]\n",
      " [1. 1.]]\n",
      "b shape: (3,)\n",
      "[0 1 2]\n"
     ]
    },
    {
     "ename": "ValueError",
     "evalue": "operands could not be broadcast together with shapes (3,2) (3,) ",
     "output_type": "error",
     "traceback": [
      "\u001b[1;31m---------------------------------------------------------------------------\u001b[0m",
      "\u001b[1;31mValueError\u001b[0m                                Traceback (most recent call last)",
      "\u001b[1;32m<ipython-input-22-fb8dd837e22d>\u001b[0m in \u001b[0;36m<module>\u001b[1;34m\u001b[0m\n\u001b[0;32m      6\u001b[0m \u001b[0mprint\u001b[0m\u001b[1;33m(\u001b[0m\u001b[0mb\u001b[0m\u001b[1;33m)\u001b[0m\u001b[1;33m\u001b[0m\u001b[1;33m\u001b[0m\u001b[0m\n\u001b[0;32m      7\u001b[0m \u001b[1;33m\u001b[0m\u001b[0m\n\u001b[1;32m----> 8\u001b[1;33m \u001b[0mc\u001b[0m \u001b[1;33m=\u001b[0m \u001b[0ma\u001b[0m \u001b[1;33m+\u001b[0m \u001b[0mb\u001b[0m\u001b[1;33m\u001b[0m\u001b[1;33m\u001b[0m\u001b[0m\n\u001b[0m\u001b[0;32m      9\u001b[0m \u001b[0mprint\u001b[0m\u001b[1;33m(\u001b[0m\u001b[1;34m\"a + b shape: %s\"\u001b[0m \u001b[1;33m%\u001b[0m \u001b[1;33m(\u001b[0m\u001b[0mc\u001b[0m\u001b[1;33m.\u001b[0m\u001b[0mshape\u001b[0m\u001b[1;33m,\u001b[0m\u001b[1;33m)\u001b[0m\u001b[1;33m)\u001b[0m\u001b[1;33m\u001b[0m\u001b[1;33m\u001b[0m\u001b[0m\n\u001b[0;32m     10\u001b[0m \u001b[0mprint\u001b[0m\u001b[1;33m(\u001b[0m\u001b[0mc\u001b[0m\u001b[1;33m)\u001b[0m\u001b[1;33m\u001b[0m\u001b[1;33m\u001b[0m\u001b[0m\n",
      "\u001b[1;31mValueError\u001b[0m: operands could not be broadcast together with shapes (3,2) (3,) "
     ]
    }
   ],
   "source": [
    "a = np.ones((3, 2))\n",
    "print(\"a shape: %s\" % (a.shape,))\n",
    "print(a)\n",
    "b = np.array([0, 1, 2])  # 1D row array\n",
    "print(\"b shape: %s\" % (b.shape,))\n",
    "print(b)\n",
    "\n",
    "c = a + b\n",
    "print(\"a + b shape: %s\" % (c.shape,))\n",
    "print(c)"
   ]
  },
  {
   "cell_type": "markdown",
   "metadata": {},
   "source": [
    "---"
   ]
  },
  {
   "cell_type": "markdown",
   "metadata": {},
   "source": [
    "<img align=\"left\" width=\"6%\" style=\"padding-right:10px; padding-top:10px;\" src=\"images/refs.png\">\n",
    "\n",
    "## Useful References"
   ]
  },
  {
   "cell_type": "markdown",
   "metadata": {},
   "source": [
    "* [The official Python 3.6 documentation](https://docs.python.org/3.6/index.html)\n",
    "* [Programming Basics with Python](https://github.com/hydroffice/python_basics)\n",
    "* The Numpy Package:\n",
    "  * [Website](https://www.numpy.org/)\n",
    "  * [`random.random()`](https://docs.scipy.org/doc/numpy/reference/generated/numpy.random.random.html)\n",
    "  * [`random.seed()`](https://docs.scipy.org/doc/numpy/reference/generated/numpy.random.seed.html) \n",
    "* The Matplotlib Package:\n",
    "  * [Website](https://matplotlib.org/)\n",
    "  * [Documentation](https://matplotlib.org/users/index.html)\n",
    "  * [`imshow()`](https://matplotlib.org/api/_as_gen/matplotlib.pyplot.imshow.html)\n",
    "* [Uniform Distribution](https://en.wikipedia.org/wiki/Uniform_distribution_(continuous))"
   ]
  },
  {
   "cell_type": "markdown",
   "metadata": {},
   "source": [
    "<img align=\"left\" width=\"5%\" style=\"padding-right:10px;\" src=\"images/email.png\">\n",
    "\n",
    "*For issues or suggestions related to this notebook, write to: epom@ccom.unh.edu*"
   ]
  },
  {
   "cell_type": "markdown",
   "metadata": {},
   "source": [
    "<!--NAVIGATION-->\n",
    "[Adopting NumPy in Class Methods >](COMP_001_Adopting_NumPy_in_Class_Methods.ipynb) | [Contents](index.ipynb) | "
   ]
  }
 ],
 "metadata": {
  "kernelspec": {
   "display_name": "Python 3",
   "language": "python",
   "name": "python3"
  },
  "language_info": {
   "codemirror_mode": {
    "name": "ipython",
    "version": 3
   },
   "file_extension": ".py",
   "mimetype": "text/x-python",
   "name": "python",
   "nbconvert_exporter": "python",
   "pygments_lexer": "ipython3",
   "version": "3.6.7"
  }
 },
 "nbformat": 4,
 "nbformat_minor": 2
}
