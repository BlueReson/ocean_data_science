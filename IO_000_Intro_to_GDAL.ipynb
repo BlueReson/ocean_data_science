{
 "cells": [
  {
   "cell_type": "markdown",
   "metadata": {},
   "source": [
    "<a href=\"https://www.hydroffice.org/epom/\"><img src=\"images/000_000_epom_logo.png\" alt=\"ePOM\" title=\"Open ePOM home page\" align=\"center\" width=\"12%\" alt=\"Python logo\\\"></a>"
   ]
  },
  {
   "cell_type": "markdown",
   "metadata": {},
   "source": [
    "<a href=\"https://piazza.com/e-learning_python_for_ocean_mapping/fall2019/om100/home\"><img src=\"images/help.png\" alt=\"ePOM\" title=\"Ask questions on Piazza.com\" align=\"right\" width=\"10%\" alt=\"Piazza.com\\\"></a>\n",
    "# Introduction to GDAL"
   ]
  },
  {
   "cell_type": "markdown",
   "metadata": {},
   "source": [
    "Before starting to use `gdal`, you have to execute the following cell that, together with code introduced in the past notebooks, imports `gdal` from the `osgeo` namespace:"
   ]
  },
  {
   "cell_type": "code",
   "execution_count": 3,
   "metadata": {},
   "outputs": [
    {
     "name": "stdout",
     "output_type": "stream",
     "text": [
      "The autoreload extension is already loaded. To reload it, use:\n",
      "  %reload_ext autoreload\n"
     ]
    }
   ],
   "source": [
    "%load_ext autoreload\n",
    "%autoreload 2\n",
    "%matplotlib inline\n",
    "\n",
    "import sys\n",
    "import os\n",
    "import matplotlib.pyplot as plt\n",
    "import matplotlib\n",
    "import numpy as np\n",
    "from osgeo import gdal\n",
    "\n",
    "sys.path.append(os.getcwd())"
   ]
  },
  {
   "cell_type": "markdown",
   "metadata": {},
   "source": [
    "Similarly to what was done in the [Introduction to Matplotlib notebook](VIS_000_Intro_to_Matplotlib.ipynb#Introduction-to-Matplotlib), the cell below retrieves and prints the Numpy version:"
   ]
  },
  {
   "cell_type": "code",
   "execution_count": 4,
   "metadata": {},
   "outputs": [
    {
     "name": "stdout",
     "output_type": "stream",
     "text": [
      "Numpy version: 1.16.2\n",
      "Matplotlib version: 3.0.3\n",
      "GDAL version: 2.4.1\n"
     ]
    }
   ],
   "source": [
    "print(\"Numpy version: %s\" % (np.__version__, ))\n",
    "print(\"Matplotlib version: %s\" % (matplotlib.__version__, ))\n",
    "print(\"GDAL version: %s\" % (gdal.__version__, ))"
   ]
  },
  {
   "cell_type": "markdown",
   "metadata": {},
   "source": [
    "***"
   ]
  },
  {
   "cell_type": "markdown",
   "metadata": {},
   "source": [
    "<img align=\"left\" width=\"6%\" style=\"padding-right:10px; padding-top:10px;\" src=\"images/refs.png\">\n",
    "\n",
    "## Useful References"
   ]
  },
  {
   "cell_type": "markdown",
   "metadata": {},
   "source": [
    "* [The official Python 3.6 documentation](https://docs.python.org/3.6/index.html)\n",
    "  * [Tuple](https://docs.python.org/3.6/library/stdtypes.html?#tuples)\n",
    "* [Programming Basics with Python](https://github.com/hydroffice/python_basics)\n",
    "* The Numpy Package:\n",
    "  * [Website](https://www.numpy.org/)\n",
    "  * [`zeros()`](https://www.numpy.org/devdocs/reference/generated/numpy.zeros.html?#numpy.zeros)\n",
    "  * [`full()`](https://www.numpy.org/devdocs/reference/generated/numpy.full.html?#numpy.full)\n",
    "  * [`array()`](https://www.numpy.org/devdocs/reference/generated/numpy.full.html?#numpy.array)\n",
    "  * [`arange()`](https://docs.scipy.org/doc/numpy/reference/generated/numpy.arange.html)\n",
    "  * [`linspace()`](https://docs.scipy.org/doc/numpy/reference/generated/numpy.linspace.html)\n",
    "  * [`copy()`](https://docs.scipy.org/doc/numpy/reference/generated/numpy.copy.html)"
   ]
  },
  {
   "cell_type": "markdown",
   "metadata": {},
   "source": [
    "<img align=\"left\" width=\"5%\" style=\"padding-right:10px;\" src=\"images/email.png\">\n",
    "\n",
    "*For issues or suggestions related to this notebook, write to: epom@ccom.unh.edu*"
   ]
  },
  {
   "cell_type": "markdown",
   "metadata": {},
   "source": [
    "<!--NAVIGATION-->\n",
    "| [Contents](index.ipynb) | [Adopting NumPy in Class Methods >](COMP_001_Adopting_NumPy_in_Class_Methods.ipynb)"
   ]
  }
 ],
 "metadata": {
  "kernelspec": {
   "display_name": "Python 3",
   "language": "python",
   "name": "python3"
  },
  "language_info": {
   "codemirror_mode": {
    "name": "ipython",
    "version": 3
   },
   "file_extension": ".py",
   "mimetype": "text/x-python",
   "name": "python",
   "nbconvert_exporter": "python",
   "pygments_lexer": "ipython3",
   "version": "3.6.7"
  }
 },
 "nbformat": 4,
 "nbformat_minor": 2
}
