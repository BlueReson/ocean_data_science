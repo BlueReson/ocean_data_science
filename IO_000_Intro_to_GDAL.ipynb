{
 "cells": [
  {
   "cell_type": "markdown",
   "metadata": {},
   "source": [
    "<a href=\"https://www.hydroffice.org/epom/\"><img src=\"images/000_000_epom_logo.png\" alt=\"ePOM\" title=\"Open ePOM home page\" align=\"center\" width=\"12%\" alt=\"Python logo\\\"></a>"
   ]
  },
  {
   "cell_type": "markdown",
   "metadata": {},
   "source": [
    "<a href=\"https://piazza.com/e-learning_python_for_ocean_mapping/fall2019/om100/home\"><img src=\"images/help.png\" alt=\"ePOM\" title=\"Ask questions on Piazza.com\" align=\"right\" width=\"10%\" alt=\"Piazza.com\\\"></a>\n",
    "# Introduction to GDAL"
   ]
  },
  {
   "cell_type": "markdown",
   "metadata": {},
   "source": [
    "<img align=\"left\" width=\"6%\" style=\"padding-right:10px;\" src=\"images/key.png\">\n",
    "\n",
    "The [Geospatial Data Abstraction Lybrary (GDAL)](https://gdal.org) is a key component of many geospatial processing workflows."
   ]
  },
  {
   "cell_type": "markdown",
   "metadata": {},
   "source": [
    "GDAL provides a simplified means to access an increasing number of geospatial [raster](https://en.wikipedia.org/wiki/GIS_file_formats#Raster) formats (see the [GDAL format list](https://gdal.org/formats_list.html)) and to modify the retrieved data (e.g., changing their cartographic projections). The library also supports several [vector](https://en.wikipedia.org/wiki/GIS_file_formats#Vector) formats through the `ogr` component (see [OGR vector formats](https://gdal.org/ogr_formats.html)). \n",
    "\n",
    "The library is written in [C++](https://en.wikipedia.org/wiki/C%2B%2B), but can be used in Python and in [many other popular computer languages](https://trac.osgeo.org/gdal/#GDALOGRInOtherLanguages)."
   ]
  },
  {
   "cell_type": "markdown",
   "metadata": {},
   "source": [
    "Before starting to use `gdal`, you have to execute the following cell that, together with code introduced in the past notebooks, imports `gdal` from the `osgeo` namespace:"
   ]
  },
  {
   "cell_type": "code",
   "execution_count": null,
   "metadata": {},
   "outputs": [],
   "source": [
    "%load_ext autoreload\n",
    "%autoreload 2\n",
    "%matplotlib inline\n",
    "\n",
    "import sys\n",
    "import os\n",
    "import matplotlib.pyplot as plt\n",
    "import matplotlib.ticker as ticker\n",
    "import numpy as np\n",
    "from osgeo import gdal\n",
    "from osgeo import ogr\n",
    "from osgeo import osr\n",
    "\n",
    "sys.path.append(os.getcwd())\n",
    "np.set_printoptions(precision=2, floatmode='fixed')"
   ]
  },
  {
   "cell_type": "markdown",
   "metadata": {},
   "source": [
    "The cell below retrieves and prints the GDAL version:"
   ]
  },
  {
   "cell_type": "code",
   "execution_count": null,
   "metadata": {},
   "outputs": [],
   "source": [
    "print(\"GDAL version: %s\" % (gdal.__version__, ))"
   ]
  },
  {
   "cell_type": "markdown",
   "metadata": {},
   "source": [
    "---"
   ]
  },
  {
   "cell_type": "markdown",
   "metadata": {},
   "source": [
    "# The BAG Format"
   ]
  },
  {
   "cell_type": "markdown",
   "metadata": {},
   "source": [
    "<img align=\"left\" width=\"6%\" style=\"padding-right:10px;\" src=\"images/key.png\">\n",
    "\n",
    "The [Bathymetric Attributed Grid](https://en.wikipedia.org/wiki/Bathymetric_attributed_grid) (BAG) is a raster file format designed to store and exchange bathymetric data. The BAG format aims to ensure interoperability amongst vendors and agencies. "
   ]
  },
  {
   "cell_type": "markdown",
   "metadata": {},
   "source": [
    "The BAG format was developed and is currently maintained by [The Open Navigation Surface](http://www.opennavsurf.org/) working group, with members from [CARIS](http://www.teledynecaris.com), [CCOM/JHC](http://www.ccom.unh.edu/), [ESRI](https://www.esri.com), [NAVO](https://www.usno.navy.mil/NAVO), [NOAA](https://www.noaa.gov/), [QPS](https://qps.nl), [SAIC](http://www.saic.com/) and several other organizations."
   ]
  },
  {
   "cell_type": "markdown",
   "metadata": {},
   "source": [
    "The BAG data structure is based on the flexibility provided by the [Hierarchical Data Format](https://en.wikipedia.org/wiki/Hierarchical_Data_Format) (HDF) format."
   ]
  },
  {
   "cell_type": "markdown",
   "metadata": {},
   "source": [
    "<img align=\"left\" width=\"6%\" style=\"padding-right:10px;\" src=\"images/key.png\">\n",
    "\n",
    "There are four mandatory components in a BAG file:\n",
    "<br><br>\n",
    "\n",
    "* Elevation layer\n",
    "* Uncertainty layer\n",
    "* Tracking List table (with all the modifications applied to the original data)\n",
    "* Metadata string (e.g., projection, resolution, data lineage) in the ISO Metadata [XML](https://en.wikipedia.org/wiki/XML) format "
   ]
  },
  {
   "cell_type": "markdown",
   "metadata": {},
   "source": [
    "![BAG Format](images/IO_000_000_bag_format.png)"
   ]
  },
  {
   "cell_type": "markdown",
   "metadata": {},
   "source": [
    "You can use the [BAG Explorer](https://www.hydroffice.org/bag/main) application to explore the content of a BAG file:"
   ]
  },
  {
   "cell_type": "markdown",
   "metadata": {},
   "source": [
    "![BAG Explorer](images/IO_000_001_bag_explorer.png)"
   ]
  },
  {
   "cell_type": "markdown",
   "metadata": {},
   "source": [
    "<img align=\"left\" width=\"6%\" style=\"padding-right:10px;\" src=\"images/key.png\">\n",
    "\n",
    "GDAL supports the BAG raster format with the limitations described on [this page](https://www.gdal.org/frmt_bag.html)."
   ]
  },
  {
   "cell_type": "markdown",
   "metadata": {},
   "source": [
    "Following some of the steps described in the official [GDAL tutorial](https://www.gdal.org/gdal_tutorial.html), the cell below explores the content of a BAG file."
   ]
  },
  {
   "cell_type": "code",
   "execution_count": null,
   "metadata": {},
   "outputs": [],
   "source": [
    "bag_path = os.path.join(os.getcwd(), \"data\", \"sh2007.bag\")  # the 'sh2007.bag' file is located under the `data` folder\n",
    "\n",
    "dataset = gdal.Open(bag_path, gdal.GA_ReadOnly)\n",
    "if not dataset:\n",
    "    raise RuntimeError(\"Issue in opening the BAG file: %s\" % bag_path)\n",
    "\n",
    "print(\"BAG file was successfully opened: %s\" % (bag_path,))"
   ]
  },
  {
   "cell_type": "markdown",
   "metadata": {},
   "source": [
    "## Dataset Information"
   ]
  },
  {
   "cell_type": "markdown",
   "metadata": {},
   "source": [
    "A GDAL **dataset** contains:\n",
    "\n",
    "* Several **raster bands**, co-located and at the same resolution.\n",
    "* **Metadata** information.\n",
    "* A **projection**, that is the coordinate reference system in use by the stored data.\n",
    "* A **geo-transform**, required to convert the grid indices into geographical coordinates.\n",
    "* Other information (e.g., layer shape)."
   ]
  },
  {
   "cell_type": "markdown",
   "metadata": {},
   "source": [
    "The cell below retrieves and displays some of the available dataset information:"
   ]
  },
  {
   "cell_type": "code",
   "execution_count": null,
   "metadata": {},
   "outputs": [],
   "source": [
    "print(\"GDAL driver name: %s\" % dataset.GetDriver().LongName)\n",
    "\n",
    "print(\"Number of bands: %s\" % dataset.RasterCount)\n",
    "print(\"Band shape: %s x %s\" % (dataset.RasterXSize, dataset.RasterYSize,))"
   ]
  },
  {
   "cell_type": "markdown",
   "metadata": {},
   "source": [
    "Based on the results from the cell above, GDAL identified two layers in the BAG file. This is in agreement with the [GDAL documentation for the BAG format](https://www.gdal.org/frmt_bag.html): *\"BAG files have two or three image bands representing Elevation (band 1), Uncertainty (band 2) and Nominal Elevation (band 3) values for each cell in a raster grid area.\"*.  Thus, in this specific case, we can retrieve the first two bands: the elevation and the uncertainty. \n",
    "\n",
    "Other useful information is the shape of the arrays in those bands: `841 x 1246`."
   ]
  },
  {
   "cell_type": "markdown",
   "metadata": {},
   "source": [
    "The cells below retrieve and show the BAG projection in [Well Known Text](https://en.wikipedia.org/wiki/Well-known_text_representation_of_coordinate_reference_systems) as well as its official name (e.g., `WGS 84 / UTM zone 19N`):"
   ]
  },
  {
   "cell_type": "code",
   "execution_count": null,
   "metadata": {},
   "outputs": [],
   "source": [
    "print(\"Projection:\")\n",
    "projection = dataset.GetProjection()\n",
    "print(\"- WKT:\\n%s\" % projection)\n",
    "\n",
    "srs = osr.SpatialReference(wkt=projection)\n",
    "projection_name = srs.GetAttrValue('projcs')\n",
    "print(\"- name: %s\" % projection_name)"
   ]
  },
  {
   "cell_type": "markdown",
   "metadata": {},
   "source": [
    "The cells below retrieve and show the six elements of a geo-transform (for more details, read the [GDAL Data Model page](https://www.gdal.org/gdal_datamodel.html)):\n",
    "\n",
    "* `gt[0]`: x coordinate for the top-left corner\n",
    "* `gt[1]`: grid resolution in the west-east direction.\n",
    "* `gt[2]`: 0 for north-up raster\n",
    "* `gt[3]`: y coordinate for the top-left corner\n",
    "* `gt[4]`: 0 for north-up raster\n",
    "* `gt[5]`: grid resolution in the north-south direction (usually, a negative value)"
   ]
  },
  {
   "cell_type": "code",
   "execution_count": null,
   "metadata": {},
   "outputs": [],
   "source": [
    "gt = dataset.GetGeoTransform()\n",
    "if not gt:\n",
    "    raise RuntimeError(\"Issue in retrieving the geotransfrom\")\n",
    "print(\"Geo-Transform: [%.2f, %.2f, %.2f, %.2f, %.2f, %.2f]\" % gt)\n",
    "\n",
    "print(\"Top-left Corner = (%.2f, %.2f)\" % (gt[0], gt[3]))\n",
    "print(\"Grid Resolution = (%.2f, %.2f)\" % (gt[1], gt[5]))"
   ]
  },
  {
   "cell_type": "markdown",
   "metadata": {},
   "source": [
    "The cell below retrieves, from the BAG file, the string containing the XML metadata:"
   ]
  },
  {
   "cell_type": "code",
   "execution_count": null,
   "metadata": {},
   "outputs": [],
   "source": [
    "metadata = dataset.GetMetadata(\"xml:BAG\")[0]\n",
    "print(\"metadata:\\n%s\" % metadata)"
   ]
  },
  {
   "cell_type": "markdown",
   "metadata": {},
   "source": [
    "<img align=\"left\" width=\"6%\" style=\"padding-right:10px;\" src=\"images/info.png\">\n",
    "\n",
    "To make the text more readable, you can use XML-aware packages such as [`xml.dom.minidom`](https://docs.python.org/3.6/library/xml.dom.minidom.html):"
   ]
  },
  {
   "cell_type": "code",
   "execution_count": null,
   "metadata": {},
   "outputs": [],
   "source": [
    "from xml.dom import minidom\n",
    "\n",
    "dom = minidom.parseString(metadata)\n",
    "print(dom.toprettyxml())"
   ]
  },
  {
   "cell_type": "markdown",
   "metadata": {},
   "source": [
    "<img align=\"left\" width=\"6%\" style=\"padding-right:10px;\" src=\"images/info.png\">\n",
    "\n",
    "Once that the metadata are parsed using [`xml.dom.minidom`](https://docs.python.org/3.6/library/xml.dom.minidom.html), you can retrieve specific metadata components:"
   ]
  },
  {
   "cell_type": "code",
   "execution_count": null,
   "metadata": {},
   "outputs": [],
   "source": [
    "org_name = dom.getElementsByTagName(\"gmd:organisationName\")[0]\n",
    "print(\"The XML element with the organization that has created the BAG file:\\n%s\" % org_name.toprettyxml())"
   ]
  },
  {
   "cell_type": "markdown",
   "metadata": {},
   "source": [
    "## Reading Raster Layers as Numpy Arrays"
   ]
  },
  {
   "cell_type": "markdown",
   "metadata": {},
   "source": [
    "The cell below retrieves the two raster bands from the dataset (the numbering starts from 1), and then displays some information about them."
   ]
  },
  {
   "cell_type": "code",
   "execution_count": null,
   "metadata": {},
   "outputs": [],
   "source": [
    "elev_band = dataset.GetRasterBand(1)\n",
    "print(\"Elevation band -> data type: %s\" % (gdal.GetDataTypeName(elev_band.DataType)))\n",
    "print(\"Elevation band -> min/max values in meters: %.3f/%.3f\" % (elev_band.GetMinimum(), elev_band.GetMaximum()))\n",
    "elev_nodata = elev_band.GetNoDataValue()\n",
    "print(\"Elevation band -> nodata value: %s\" % (elev_nodata))\n",
    "\n",
    "unc_band = dataset.GetRasterBand(2)\n",
    "print(\"Uncertainty band -> data type: %s\" % (gdal.GetDataTypeName(unc_band.DataType)))\n",
    "print(\"Uncertainty band -> min/max values in meters: %.3f/%.3f\" % (unc_band.GetMinimum(), unc_band.GetMaximum()))\n",
    "unc_nodata = elev_band.GetNoDataValue()\n",
    "print(\"Uncertainty band -> nodata value: %s\" % (unc_nodata))"
   ]
  },
  {
   "cell_type": "markdown",
   "metadata": {},
   "source": [
    "For each of the two bands, the cell above provides:\n",
    "\n",
    "* The data type: `Float32`.\n",
    "* The range of values (i.e., the minimum and the maximum values).\n",
    "* The value used to mark a grid cell without data: 1,000,000."
   ]
  },
  {
   "cell_type": "markdown",
   "metadata": {},
   "source": [
    "The cell below will read the elevation band as a NumPy array:"
   ]
  },
  {
   "cell_type": "code",
   "execution_count": null,
   "metadata": {},
   "outputs": [],
   "source": [
    "elev = elev_band.ReadAsArray()\n",
    "print(\"maximum elevation: %.3f\" % np.nanmax(elev))\n",
    "print(\"minimum elevation: %.3f\" % np.nanmin(elev))\n",
    "\n",
    "plt.imshow(elev)\n",
    "plt.show()"
   ]
  },
  {
   "cell_type": "markdown",
   "metadata": {},
   "source": [
    "The plot above has only two colors. *It does not look like valid bathymetry!*"
   ]
  },
  {
   "cell_type": "markdown",
   "metadata": {},
   "source": [
    "The minimum value should give a good hint of what is going on. The no-data values have been plotted! The cell below will put `np.nan` in place of those values. Furthermore, we convert the elevation values into bathymetry by inverting their sign. "
   ]
  },
  {
   "cell_type": "code",
   "execution_count": null,
   "metadata": {},
   "outputs": [],
   "source": [
    "elev = elev_band.ReadAsArray()\n",
    "elev[elev==elev_nodata] = np.nan\n",
    "elev = -elev\n",
    "\n",
    "print(\"minimum depth: %.3f\" % np.nanmin(elev))\n",
    "print(\"maximum depth: %.3f\" % np.nanmax(elev))\n",
    "\n",
    "plt.imshow(elev)\n",
    "plt.show()"
   ]
  },
  {
   "cell_type": "markdown",
   "metadata": {},
   "source": [
    "The plot above looks much better! \n",
    "\n",
    "The cell below calculates the extent of the data based on the geo-transform values:"
   ]
  },
  {
   "cell_type": "code",
   "execution_count": null,
   "metadata": {},
   "outputs": [],
   "source": [
    "bag_extent = [gt[0], gt[0] + elev.shape[1] * gt[1], gt[3] + elev.shape[0] * gt[5], gt[3]]\n",
    "print(\"BAG extent: %s\" % (bag_extent, ))"
   ]
  },
  {
   "cell_type": "markdown",
   "metadata": {},
   "source": [
    "We can now finalize the BAG plot with the retrieved data extent and a colorbar: "
   ]
  },
  {
   "cell_type": "code",
   "execution_count": null,
   "metadata": {},
   "outputs": [],
   "source": [
    "plt.figure(figsize=(15, 10))  # to make the plot bigger\n",
    "ax = plt.axes()\n",
    "plt.ticklabel_format(useOffset=False)  # to avoid the display of an offset for the labels\n",
    "ax.xaxis.set_major_locator(ticker.MultipleLocator(100.0))  # to set the distance between labels (x axis)\n",
    "ax.yaxis.set_major_locator(ticker.MultipleLocator(100.0))  # to set the distance between labels (y axis)\n",
    "img = ax.imshow(elev, origin='upper', extent=bag_extent, cmap='viridis_r')  # display the array using the passed data extent\n",
    "ax.set_aspect('equal')  # avoid deformations for the displayed data\n",
    "title = \"%s - Bathymetry [meter]\\nProjection: %s\" % (os.path.basename(bag_path), projection_name)\n",
    "plt.title(title)  # put the filename and the projection as part of the title\n",
    "plt.xlabel(\"Easting\") \n",
    "plt.ylabel(\"Northing\")\n",
    "plt.colorbar(img)  # pass the 'img' object used to create the colorbar\n",
    "plt.grid()\n",
    "plt.show()"
   ]
  },
  {
   "cell_type": "markdown",
   "metadata": {},
   "source": [
    "The plot above shows an area with sand ripples in Portsmouth Harbor, New Hampshire (USA)."
   ]
  },
  {
   "cell_type": "markdown",
   "metadata": {},
   "source": [
    " "
   ]
  },
  {
   "cell_type": "markdown",
   "metadata": {
    "solution2": "hidden",
    "solution2_first": true
   },
   "source": [
    "<img align=\"left\" width=\"6%\" style=\"padding-right:10px;\" src=\"images/test.png\">\n",
    "\n",
    "Create a plot for the uncertainty layer similar to the one generated for bathymetry. What are the areas with higher uncertainty?"
   ]
  },
  {
   "cell_type": "code",
   "execution_count": null,
   "metadata": {
    "solution2": "hidden"
   },
   "outputs": [],
   "source": [
    "unc = unc_band.ReadAsArray()\n",
    "unc[unc==unc_nodata] = np.nan\n",
    "print(\"minimum uncertainty: %.3f\" % np.nanmin(unc))\n",
    "print(\"maximum uncertainty: %.3f\" % np.nanmax(unc))\n",
    "\n",
    "bag_extent = [gt[0], gt[0] + unc.shape[1] * gt[1], gt[3] + unc.shape[0] * gt[5], gt[3]]\n",
    "print(\"BAG extent: %s\" % (bag_extent, ))\n",
    "\n",
    "plt.figure(figsize=(15, 10))\n",
    "ax = plt.axes()\n",
    "plt.ticklabel_format(useOffset=False)\n",
    "ax.xaxis.set_major_locator(ticker.MultipleLocator(100.0))\n",
    "ax.yaxis.set_major_locator(ticker.MultipleLocator(100.0))\n",
    "img = ax.imshow(unc, origin='upper', extent=bag_extent)\n",
    "ax.set_aspect('equal') \n",
    "title = \"%s - Uncertainty [meter]\\nProjection: %s\" % (os.path.basename(bag_path), projection_name)\n",
    "plt.title(title)  # put the filename and the projection as part of the title\n",
    "plt.xlabel(\"Easting\") \n",
    "plt.ylabel(\"Northing\")\n",
    "plt.colorbar(img)\n",
    "plt.grid()"
   ]
  },
  {
   "cell_type": "code",
   "execution_count": null,
   "metadata": {},
   "outputs": [],
   "source": [
    "unc = unc_band.ReadAsArray()"
   ]
  },
  {
   "cell_type": "markdown",
   "metadata": {},
   "source": [
    " ***"
   ]
  },
  {
   "cell_type": "markdown",
   "metadata": {},
   "source": [
    "Do you know that the [U.S. national archive for multibeam bathymetric data](https://www.ngdc.noaa.gov/mgg/bathymetry/multibeam.html) is publicly available? The Multibeam Bathymetry Database (MBBDB) includes tons of hydrographic multibeam survey data from NOAA's National Ocean Service (NOS).\n",
    "\n",
    "Visit the [Bathymetric Data Viewer](https://maps.ngdc.noaa.gov/viewers/bathymetry/), download one or more BAGs from an area of your choice, and plot the retrieved data!"
   ]
  },
  {
   "cell_type": "markdown",
   "metadata": {},
   "source": [
    "<a href=\"https://maps.ngdc.noaa.gov/viewers/bathymetry/\"><img src=\"images/IO_000_0002_bathymetric_data_viewer.png\" alt=\"Bathymetric Data Viewer\" title=\"Open the Bathymetric Data Viewer page\" align=\"center\" width=\"80%\"></a>"
   ]
  },
  {
   "cell_type": "markdown",
   "metadata": {},
   "source": [
    "***"
   ]
  },
  {
   "cell_type": "markdown",
   "metadata": {},
   "source": [
    "<img align=\"left\" width=\"6%\" style=\"padding-right:10px; padding-top:10px;\" src=\"images/refs.png\">\n",
    "\n",
    "## Useful References"
   ]
  },
  {
   "cell_type": "markdown",
   "metadata": {},
   "source": [
    "* [The official Python 3.6 documentation](https://docs.python.org/3.6/index.html)\n",
    "* [Programming Basics with Python](https://github.com/hydroffice/python_basics)\n",
    "* The GDAL Package:\n",
    "  * [Website](https://gdal.org)\n",
    "  * [Data Model page](https://www.gdal.org/gdal_datamodel.html)\n",
    "  * [Raster Formats](https://gdal.org/formats_list.html)\n",
    "  * [Vector Formats](https://gdal.org/ogr_formats.html)\n",
    "  * [Tutorial](https://www.gdal.org/gdal_tutorial.html)\n",
    "* [Bathymetric Attributed Grid](https://en.wikipedia.org/wiki/Bathymetric_attributed_grid)\n",
    "* [The Open Navigation Surface](http://www.opennavsurf.org/)\n",
    "* [Hierarchical Data Format](https://en.wikipedia.org/wiki/Hierarchical_Data_Format)\n",
    "* [WKT for Coordinate Reference Systems](https://en.wikipedia.org/wiki/Well-known_text_representation_of_coordinate_reference_systems)\n",
    "* [Bathymetric Data Viewer](https://maps.ngdc.noaa.gov/viewers/bathymetry/)"
   ]
  },
  {
   "cell_type": "markdown",
   "metadata": {},
   "source": [
    "<img align=\"left\" width=\"5%\" style=\"padding-right:10px;\" src=\"images/email.png\">\n",
    "\n",
    "*For issues or suggestions related to this notebook, write to: epom@ccom.unh.edu*"
   ]
  },
  {
   "cell_type": "markdown",
   "metadata": {},
   "source": [
    "<!--NAVIGATION-->\n",
    "| [Contents](index.ipynb) | [Adopting NumPy in Class Methods >](COMP_001_Adopting_NumPy_in_Class_Methods.ipynb)"
   ]
  }
 ],
 "metadata": {
  "kernelspec": {
   "display_name": "Python 3",
   "language": "python",
   "name": "python3"
  },
  "language_info": {
   "codemirror_mode": {
    "name": "ipython",
    "version": 3
   },
   "file_extension": ".py",
   "mimetype": "text/x-python",
   "name": "python",
   "nbconvert_exporter": "python",
   "pygments_lexer": "ipython3",
   "version": "3.6.7"
  }
 },
 "nbformat": 4,
 "nbformat_minor": 2
}
